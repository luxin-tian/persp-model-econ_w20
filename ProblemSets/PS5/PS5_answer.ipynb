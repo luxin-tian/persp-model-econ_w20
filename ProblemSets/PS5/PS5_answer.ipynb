{
 "cells": [
  {
   "cell_type": "code",
   "execution_count": 1,
   "metadata": {},
   "outputs": [],
   "source": [
    "# Import packages \n",
    "import numpy as np\n",
    "import numpy.linalg as lin\n",
    "import scipy.stats as sts\n",
    "import scipy.integrate as intgr\n",
    "import scipy.optimize as opt\n",
    "import matplotlib\n",
    "import matplotlib.pyplot as plt\n",
    "from mpl_toolkits.mplot3d import Axes3D\n",
    "from matplotlib import cm\n",
    "cmap1 = matplotlib.cm.get_cmap('summer')\n",
    "# This next command is specifically for Jupyter Notebook\n",
    "%matplotlib notebook\n",
    "\n",
    "import requests\n",
    "from IPython.display import Image\n",
    "import pandas as pd"
   ]
  },
  {
   "cell_type": "code",
   "execution_count": 2,
   "metadata": {},
   "outputs": [],
   "source": [
    "# Load data\n",
    "df = pd.read_csv('data/incomes.txt', names=['income'])"
   ]
  },
  {
   "cell_type": "code",
   "execution_count": 3,
   "metadata": {},
   "outputs": [
    {
     "data": {
      "text/plain": [
       "count       200.000000\n",
       "mean      85276.823606\n",
       "std       18037.692869\n",
       "min       47628.560636\n",
       "25%       71850.308175\n",
       "50%       83864.444560\n",
       "75%       96059.995074\n",
       "max      139079.351549\n",
       "Name: income, dtype: float64"
      ]
     },
     "execution_count": 3,
     "metadata": {},
     "output_type": "execute_result"
    }
   ],
   "source": [
    "incomes = df['income']\n",
    "incomes.describe()"
   ]
  },
  {
   "cell_type": "markdown",
   "metadata": {},
   "source": [
    "## Problem 1.a\n",
    "\n",
    "Plot the sample data. "
   ]
  },
  {
   "cell_type": "code",
   "execution_count": 4,
   "metadata": {},
   "outputs": [
    {
     "data": {
      "image/png": "[encoded data removed]",
      "text/plain": [
       "<Figure size 432x288 with 1 Axes>"
      ]
     },
     "metadata": {
      "needs_background": "light"
     },
     "output_type": "display_data"
    }
   ],
   "source": [
    "num_bins = 30\n",
    "plt.hist(incomes, num_bins, density=True, edgecolor='k') # `normed` argument has been deprecated by `matplotlib.pyplot.hist`\n",
    "plt.title('MACSS Program\\nDistribution of Income after Graduation', fontsize=15)\n",
    "plt.xlabel(r'Income')\n",
    "plt.ylabel(r'Percent')\n",
    "plt.xlim([1, 150000])\n",
    "plt.show()"
   ]
  },
  {
   "cell_type": "markdown",
   "metadata": {},
   "source": [
    "## Problem 1.b\n",
    "\n",
    "GMM\n",
    "- R (No. of moment conditions): 2 \n",
    "- Moment conditions\n",
    "    - mean\n",
    "    - standard deviation\n",
    "- Weighting matrix: identity matrix"
   ]
  },
  {
   "cell_type": "code",
   "execution_count": 5,
   "metadata": {},
   "outputs": [],
   "source": [
    "# Define a function that generates values of a lognormal pdf\n",
    "\n",
    "def trunc_lognorm_pdf(x_vals, mu, sigma, cut_lb='None', cut_ub='None'):\n",
    "    \n",
    "    if cut_ub == 'None' and cut_lb == 'None':\n",
    "        prob_notcut = 1.0\n",
    "    elif cut_ub == 'None' and cut_lb != 'None':\n",
    "        prob_notcut = 1.0 - sts.lognorm(sigma, scale=np.exp(mu)).cdf(cut_lb)\n",
    "    elif cut_ub != 'None' and cut_lb == 'None':\n",
    "        prob_notcut = sts.lognorm(sigma, scale=np.exp(mu)).cdf(cut_ub)\n",
    "    elif cut_ub != 'None' and cut_lb != 'None':\n",
    "        prob_notcut = (sts.lognorm(sigma, scale=np.exp(mu)).cdf(cut_ub) -\n",
    "                       sts.lognorm(sigma, scale=np.exp(mu)).cdf(cut_lb))\n",
    "            \n",
    "    pdf_vals =  sts.lognorm(sigma, scale=np.exp(mu)).pdf(x_vals) / prob_notcut\n",
    "    \n",
    "    return pdf_vals"
   ]
  },
  {
   "cell_type": "code",
   "execution_count": 6,
   "metadata": {},
   "outputs": [],
   "source": [
    "# Define the functions that calculate \n",
    "# data and model moment, the error vector, and the criterion\n",
    "\n",
    "def data_moments(xvals):\n",
    "\n",
    "    mean_data = xvals.mean()\n",
    "    std_data = xvals.std()\n",
    "    \n",
    "    return mean_data, std_data\n",
    "\n",
    "\n",
    "def model_moments(mu, sigma, cut_lb, cut_ub):\n",
    "   \n",
    "    xfx = lambda x: x * trunc_lognorm_pdf(x, mu, sigma, cut_lb, cut_ub)\n",
    "    (mean_model, m_m_err) = intgr.quad(xfx, cut_lb, cut_ub)\n",
    "    x2fx = lambda x: ((x - mean_model) ** 2) * trunc_lognorm_pdf(x, mu, sigma, cut_lb, cut_ub) \n",
    "    (var_model, v_m_err) = intgr.quad(x2fx, cut_lb, cut_ub)\n",
    "    \n",
    "    return mean_model, np.sqrt(var_model)\n",
    "\n",
    "\n",
    "def err_vec(xvals, mu, sigma, cut_lb, cut_ub, simple):\n",
    "\n",
    "    mean_data, var_data = data_moments(xvals)\n",
    "    moms_data = np.array([[mean_data], [var_data]])\n",
    "    mean_model, var_model = model_moments(mu, sigma, cut_lb, cut_ub)\n",
    "    moms_model = np.array([[mean_model], [var_model]])\n",
    "    if simple:\n",
    "        err_vec = moms_model - moms_data\n",
    "    else:\n",
    "        err_vec = (moms_model - moms_data) / moms_data\n",
    "    \n",
    "    return err_vec\n",
    "\n",
    "\n",
    "def criterion(params, *args):\n",
    "    \n",
    "    mu, sigma = params\n",
    "    xvals, cut_lb, cut_ub, W = args\n",
    "    err = err_vec(xvals, mu, sigma, cut_lb, cut_ub, simple=False)\n",
    "    crit_val = err.T @ W @ err\n",
    "    \n",
    "    return crit_val"
   ]
  },
  {
   "cell_type": "code",
   "execution_count": 7,
   "metadata": {},
   "outputs": [
    {
     "name": "stdout",
     "output_type": "stream",
     "text": [
      "mu_GMM1 = 11.333533482547018  sig_GMM1 = 0.21386191435240126\n"
     ]
    },
    {
     "data": {
      "text/plain": [
       "      fun: array([[6.35762886e-16]])\n",
       " hess_inv: <2x2 LbfgsInvHessProduct with dtype=float64>\n",
       "      jac: array([-1.12690431e-08, -2.93699683e-08])\n",
       "  message: b'CONVERGENCE: REL_REDUCTION_OF_F_<=_FACTR*EPSMCH'\n",
       "     nfev: 45\n",
       "      nit: 10\n",
       "   status: 0\n",
       "  success: True\n",
       "        x: array([11.33353348,  0.21386191])"
      ]
     },
     "execution_count": 7,
     "metadata": {},
     "output_type": "execute_result"
    }
   ],
   "source": [
    "# Perfom GMM with R = 2, W = I\n",
    "mu_init = 11\n",
    "sig_init = 0.5\n",
    "cut_lb = 0.0\n",
    "cut_ub = 150000.0\n",
    "params_init = np.array([mu_init, sig_init])\n",
    "W_hat1_2 = np.eye(2)\n",
    "gmm_args = (incomes, cut_lb, cut_ub, W_hat1_2)\n",
    "results1_2 = opt.minimize(criterion, params_init, args=(gmm_args), tol=1e-14,\n",
    "                       method='L-BFGS-B', bounds=((None, None), (1e-10, None)))\n",
    "mu_GMM1_2, sig_GMM1_2 = results1_2.x\n",
    "print('mu_GMM1 =', mu_GMM1_2, ' sig_GMM1 =', sig_GMM1_2)\n",
    "results1_2"
   ]
  },
  {
   "cell_type": "code",
   "execution_count": 8,
   "metadata": {},
   "outputs": [
    {
     "name": "stdout",
     "output_type": "stream",
     "text": [
      "mu_GMM1_2 = 11.333533482547018  sig_GMM1_2 = 0.21386191435240126\n",
      "\n",
      "Sample Mean =  85276.82360625808\n",
      "Model Mean =  85276.82405894084\n",
      "\n",
      "Sample Variation =  18037.692869371564\n",
      "Model Variation =  18037.69242475657\n",
      "\n",
      "Error vector =  [ 5.30839137e-09 -2.46492164e-08]\n",
      "\n",
      "Value of GMM criterion function at the estimated parameter =  [[6.35762886e-16]]\n"
     ]
    }
   ],
   "source": [
    "# Print the result\n",
    "print('mu_GMM1_2 =', mu_GMM1_2, ' sig_GMM1_2 =', sig_GMM1_2)\n",
    "print()\n",
    "print('Sample Mean = ', data_moments(incomes)[0])\n",
    "print('Model Mean = ', model_moments(mu_GMM1_2, sig_GMM1_2, cut_lb, cut_ub)[0])\n",
    "print()\n",
    "print('Sample Variation = ', data_moments(incomes)[1])\n",
    "print('Model Variation = ', model_moments(mu_GMM1_2, sig_GMM1_2, cut_lb, cut_ub)[1])\n",
    "print()\n",
    "print('Error vector = ',  err_vec(incomes, mu_GMM1_2, sig_GMM1_2, cut_lb, cut_ub, simple=False).reshape(2))\n",
    "print()\n",
    "print('Value of GMM criterion function at the estimated parameter = ', results1_2.fun)"
   ]
  },
  {
   "cell_type": "code",
   "execution_count": 9,
   "metadata": {},
   "outputs": [
    {
     "data": {
      "image/png": "[encoded data removed]",
      "text/plain": [
       "<Figure size 432x288 with 1 Axes>"
      ]
     },
     "metadata": {
      "needs_background": "light"
     },
     "output_type": "display_data"
    }
   ],
   "source": [
    "# Plot the estimated lognormal PDF against the data\n",
    "\n",
    "# data histogram\n",
    "num_bins = 30\n",
    "plt.hist(incomes, num_bins, density=True, edgecolor='k') # `normed` argument has been deprecated by `matplotlib.pyplot.hist`\n",
    "plt.title('MACSS Program\\nDistribution of Income after Graduation', fontsize=15)\n",
    "plt.xlabel(r'Income')\n",
    "plt.ylabel(r'Percent')\n",
    "plt.xlim([1, 150000])\n",
    "\n",
    "# pdf plot\n",
    "dis_pts = np.linspace(cut_lb, cut_ub, 1000)\n",
    "plt.plot(dis_pts, trunc_lognorm_pdf(dis_pts, mu_GMM1_2, sig_GMM1_2, cut_lb, cut_ub),\n",
    "         linewidth=2, color='r', label=f'$\\mu$={round(mu_GMM1_2, 2)}  $\\sigma$={round(sig_GMM1_2, 2)}')\n",
    "plt.legend(loc='upper left')\n",
    "plt.show()"
   ]
  },
  {
   "cell_type": "markdown",
   "metadata": {},
   "source": [
    "## Problem 1.c\n",
    "\n",
    "Two-step GMM\n",
    "- R (No. of moment conditions): 2 \n",
    "- Moment conditions\n",
    "    - mean\n",
    "    - standard deviation\n",
    "- Weighting matrix: $\\hat{\\Omega}_{2step}$"
   ]
  },
  {
   "cell_type": "code",
   "execution_count": 10,
   "metadata": {},
   "outputs": [],
   "source": [
    "# Define a functions that computes the R x N matrix of errors \n",
    "# from each observation for each moment. \n",
    "def get_Err_mat2(pts, mu, sigma, cut_lb, cut_ub, simple=False):\n",
    "    R = 2\n",
    "    N = len(pts)\n",
    "    Err_mat = np.zeros((R, N))\n",
    "    mean_data, var_data = data_moments(pts)\n",
    "    mean_model, var_model = model_moments(mu, sigma, cut_lb, cut_ub)\n",
    "    if simple:\n",
    "        Err_mat[0, :] = mean_model - pts\n",
    "        Err_mat[1, :] = var_model - ((mean_data - pts) ** 2)\n",
    "    else:\n",
    "        Err_mat[0, :] = (mean_model - pts) / mean_data\n",
    "        Err_mat[1, :] = (var_model - ((mean_data - pts) ** 2)) / var_data\n",
    "    \n",
    "    return Err_mat"
   ]
  },
  {
   "cell_type": "code",
   "execution_count": 11,
   "metadata": {},
   "outputs": [
    {
     "name": "stdout",
     "output_type": "stream",
     "text": [
      "Variance Covariance Matrix: \n",
      " [[4.45167064e-02 1.67963793e+03]\n",
      " [1.67963793e+03 9.49413378e+08]]\n",
      "Weighting Matrix: \n",
      " [[ 2.40701667e+01 -4.25833109e-05]\n",
      " [-4.25833109e-05  1.12861749e-09]]\n"
     ]
    }
   ],
   "source": [
    "# Calculate the Variance Covariance Matrix of error from the first GMM \n",
    "# and the 2 step optimal Weighting Matrix\n",
    "Err_mat = get_Err_mat2(incomes, mu_GMM1_2, sig_GMM1_2, cut_lb, cut_ub, simple=False)\n",
    "VCV2 = (1 / incomes.shape[0]) * (Err_mat @ Err_mat.T)\n",
    "print('Variance Covariance Matrix: \\n', VCV2)\n",
    "W_hat2_2 = lin.inv(VCV2)\n",
    "print('Weighting Matrix: \\n', W_hat2_2)"
   ]
  },
  {
   "cell_type": "code",
   "execution_count": 12,
   "metadata": {},
   "outputs": [
    {
     "data": {
      "text/plain": [
       "      fun: array([[4.27941551e-16]])\n",
       " hess_inv: <2x2 LbfgsInvHessProduct with dtype=float64>\n",
       "      jac: array([ 2.85931329e-08, -1.86302364e-08])\n",
       "  message: b'CONVERGENCE: REL_REDUCTION_OF_F_<=_FACTR*EPSMCH'\n",
       "     nfev: 9\n",
       "      nit: 1\n",
       "   status: 0\n",
       "  success: True\n",
       "        x: array([11.33353347,  0.21386191])"
      ]
     },
     "execution_count": 12,
     "metadata": {},
     "output_type": "execute_result"
    }
   ],
   "source": [
    "# Perform GMM with R = 2, W = VCV^-1\n",
    "mu_init = mu_GMM1_2\n",
    "sig_init = sig_GMM1_2\n",
    "cut_lb = 0.0\n",
    "cut_ub = 150000.0\n",
    "params_init = np.array([mu_init, sig_init])\n",
    "gmm_args = (incomes, cut_lb, cut_ub, W_hat2_2)\n",
    "results2_2 = opt.minimize(criterion, params_init, args=(gmm_args), tol=1e-14,\n",
    "                       method='L-BFGS-B', bounds=((None, None), (1e-10, None)))\n",
    "mu_GMM2_2, sig_GMM2_2 = results2_2.x\n",
    "results2_2"
   ]
  },
  {
   "cell_type": "code",
   "execution_count": 13,
   "metadata": {},
   "outputs": [
    {
     "name": "stdout",
     "output_type": "stream",
     "text": [
      "mu_GMM2_2 = 11.333533472755567  sig_GMM2_2 = 0.2138619137414822\n",
      "\n",
      "Sample Mean =  85276.82360625808\n",
      "Model Mean =  85276.82324668269\n",
      "\n",
      "Sample Variation =  18037.692869371564\n",
      "Model Variation =  18037.692248481544\n",
      "\n",
      "Error vector =  [-4.21656647e-09 -3.44218090e-08]\n",
      "\n",
      "Value of GMM criterion function at the estimated parameter =  [[4.27941551e-16]]\n"
     ]
    }
   ],
   "source": [
    "# Print the result\n",
    "print('mu_GMM2_2 =', mu_GMM2_2, ' sig_GMM2_2 =', sig_GMM2_2)\n",
    "print()\n",
    "print('Sample Mean = ', data_moments(incomes)[0])\n",
    "print('Model Mean = ', model_moments(mu_GMM2_2, sig_GMM2_2, cut_lb, cut_ub)[0])\n",
    "print()\n",
    "print('Sample Variation = ', data_moments(incomes)[1])\n",
    "print('Model Variation = ', model_moments(mu_GMM2_2, sig_GMM2_2, cut_lb, cut_ub)[1])\n",
    "print()\n",
    "print('Error vector = ',  err_vec(incomes, mu_GMM2_2, sig_GMM2_2, cut_lb, cut_ub, simple=False).reshape(2))\n",
    "print()\n",
    "print('Value of GMM criterion function at the estimated parameter = ', results2_2.fun)"
   ]
  },
  {
   "cell_type": "code",
   "execution_count": 14,
   "metadata": {},
   "outputs": [
    {
     "data": {
      "image/png": "[encoded data removed]",
      "text/plain": [
       "<Figure size 432x288 with 1 Axes>"
      ]
     },
     "metadata": {
      "needs_background": "light"
     },
     "output_type": "display_data"
    }
   ],
   "source": [
    "# Plot the estimated lognormal PDF against the data\n",
    "\n",
    "# data histogram\n",
    "num_bins = 30\n",
    "plt.hist(incomes, num_bins, density=True, edgecolor='k') # `normed` argument has been deprecated by `matplotlib.pyplot.hist`\n",
    "plt.title('MACSS Program\\nDistribution of Income after Graduation', fontsize=15)\n",
    "plt.xlabel(r'Income')\n",
    "plt.ylabel(r'Percent')\n",
    "plt.xlim([1, 150000])\n",
    "\n",
    "# pdf plot for GMM1 result\n",
    "dis_pts = np.linspace(cut_lb, cut_ub, 1000)\n",
    "plt.plot(dis_pts, trunc_lognorm_pdf(dis_pts, mu_GMM1_2, sig_GMM1_2, cut_lb, cut_ub),\n",
    "         linewidth=2, color='r', label=f'$\\mu$={round(mu_GMM1_2, 10)}  $\\sigma$={round(sig_GMM1_2, 10)}')\n",
    "\n",
    "# pdf plot for GMM2 result\n",
    "dis_pts = np.linspace(cut_lb, cut_ub, 1000)\n",
    "plt.plot(dis_pts, trunc_lognorm_pdf(dis_pts, mu_GMM2_2, sig_GMM2_2, cut_lb, cut_ub),\n",
    "         linewidth=2, color='g', label=f'$\\mu$={round(mu_GMM2_2, 10)}  $\\sigma$={round(sig_GMM2_2, 10)}')\n",
    "plt.legend(loc='upper left')\n",
    "plt.show()"
   ]
  },
  {
   "cell_type": "markdown",
   "metadata": {},
   "source": [
    "The estimation is very close to that of the previous estimation. "
   ]
  },
  {
   "cell_type": "markdown",
   "metadata": {},
   "source": [
    "## Problem 1.d\n",
    "\n",
    "GMM \n",
    "- R (No. of moment conditions): 4\n",
    "- Moment conditions: percentiles\n",
    "- Weighting matrix: the identity matrix"
   ]
  },
  {
   "cell_type": "code",
   "execution_count": 15,
   "metadata": {},
   "outputs": [],
   "source": [
    "# Define the functions that calculate \n",
    "# data and model moment, the error vector, and the criterion\n",
    "\n",
    "def data_moments3(xvals):\n",
    "\n",
    "    bpct_1_dat = xvals[xvals < 75000].shape[0] / xvals.shape[0]\n",
    "    bpct_2_dat = (xvals[(xvals >=75000) & (xvals < 100000)].shape[0] /\n",
    "                  xvals.shape[0])\n",
    "    bpct_3_dat = xvals[xvals >= 100000].shape[0] / xvals.shape[0]\n",
    "\n",
    "    return bpct_1_dat, bpct_2_dat, bpct_3_dat\n",
    "\n",
    "\n",
    "def model_moments3(mu, sigma, cut_lb, cut_ub):\n",
    " \n",
    "    xfx = lambda x: trunc_lognorm_pdf(x, mu, sigma, cut_lb, cut_ub)\n",
    "    (bpct_1_mod, bp_1_err) = intgr.quad(xfx, 0, 75000)\n",
    "    (bpct_2_mod, bp_2_err) = intgr.quad(xfx, 75000, 100000)\n",
    "    (bpct_3_mod, bp_3_err) = intgr.quad(xfx, 100000, 150000)\n",
    "    \n",
    "    return bpct_1_mod, bpct_2_mod, bpct_3_mod\n",
    "\n",
    "\n",
    "def err_vec3(xvals, mu, sigma, cut_lb, cut_ub, simple):\n",
    " \n",
    "    bpct_1_dat, bpct_2_dat, bpct_3_dat = \\\n",
    "        data_moments3(xvals)\n",
    "    moms_data = np.array([[bpct_1_dat], [bpct_2_dat], [bpct_3_dat]])\n",
    "    bpct_1_mod, bpct_2_mod, bpct_3_mod = \\\n",
    "        model_moments3(mu, sigma, cut_lb, cut_ub)\n",
    "    moms_model = np.array([[bpct_1_mod], [bpct_2_mod], [bpct_3_mod]])\n",
    "    if simple:\n",
    "        err_vec = moms_model - moms_data\n",
    "    else:\n",
    "        err_vec = (moms_model - moms_data) / moms_data\n",
    "    \n",
    "    return err_vec\n",
    "\n",
    "\n",
    "def criterion3(params, *args):\n",
    "   \n",
    "    mu, sigma = params\n",
    "    xvals, cut_lb, cut_ub, W = args\n",
    "    err = err_vec3(xvals, mu, sigma, cut_lb, cut_ub, simple=False)\n",
    "    crit_val = err.T @ W @ err \n",
    "    \n",
    "    return crit_val"
   ]
  },
  {
   "cell_type": "code",
   "execution_count": 16,
   "metadata": {},
   "outputs": [
    {
     "data": {
      "text/plain": [
       "      fun: array([[4.29613941e-13]])\n",
       " hess_inv: <2x2 LbfgsInvHessProduct with dtype=float64>\n",
       "      jac: array([-8.32712305e-06,  3.97853224e-06])\n",
       "  message: b'CONVERGENCE: NORM_OF_PROJECTED_GRADIENT_<=_PGTOL'\n",
       "     nfev: 102\n",
       "      nit: 20\n",
       "   status: 0\n",
       "  success: True\n",
       "        x: array([11.33670511,  0.21151358])"
      ]
     },
     "execution_count": 16,
     "metadata": {},
     "output_type": "execute_result"
    }
   ],
   "source": [
    "mu_init = 11\n",
    "sig_init = 0.5\n",
    "params_init = np.array([mu_init, sig_init])\n",
    "W_hat1_3 = np.eye(3)\n",
    "gmm_args = (incomes, cut_lb, cut_ub, W_hat1_3)\n",
    "results1_3 = opt.minimize(criterion3, params_init, args=(gmm_args),\n",
    "                       method='L-BFGS-B', bounds=((1e-10, None), (1e-10, None)))\n",
    "mu_GMM1_3, sig_GMM1_3 = results1_3.x\n",
    "results1_3"
   ]
  },
  {
   "cell_type": "code",
   "execution_count": 17,
   "metadata": {},
   "outputs": [
    {
     "name": "stdout",
     "output_type": "stream",
     "text": [
      "mu_GMM2_3 = 11.336705110698398  sig_GMM2_3 = 0.21151357583827635\n",
      "\n",
      "Percent of Individuals\n",
      "data moment %<75,000\n",
      " 0.3\n",
      "model moment %<75,000\n",
      " 0.30000017044855387\n",
      "\n",
      "data moment %>75,000, <100000\n",
      " 0.5\n",
      "model moment %>75,000, <100000\n",
      " 0.4999998681752989\n",
      "\n",
      "data moment %>100000\n",
      " 0.2\n",
      "model moment %>100000\n",
      " 0.19999996137614728\n",
      "\n",
      "Error vector =  [ 5.68161846e-07 -2.63649402e-07 -1.93119264e-07]\n",
      "\n",
      "Value of GMM criterion function at the estimated parameter =  [[4.29613941e-13]]\n"
     ]
    }
   ],
   "source": [
    "# Print the result\n",
    "print('mu_GMM2_3 =', mu_GMM1_3, ' sig_GMM2_3 =', sig_GMM1_3)\n",
    "print()\n",
    "print('Percent of Individuals')\n",
    "print('data moment %<75,000\\n', data_moments3(incomes)[0])\n",
    "print('model moment %<75,000\\n', model_moments3(mu_GMM1_3, sig_GMM1_3, cut_lb, cut_ub)[0])\n",
    "print()\n",
    "print('data moment %>75,000, <100000\\n', data_moments3(incomes)[1])\n",
    "print('model moment %>75,000, <100000\\n', model_moments3(mu_GMM1_3, sig_GMM1_3, cut_lb, cut_ub)[1])\n",
    "print()\n",
    "print('data moment %>100000\\n', data_moments3(incomes)[2])\n",
    "print('model moment %>100000\\n', model_moments3(mu_GMM1_3, sig_GMM1_3, cut_lb, cut_ub)[2])\n",
    "print()\n",
    "print('Error vector = ',  err_vec3(incomes, mu_GMM1_3, sig_GMM1_3, cut_lb, cut_ub, simple=False).reshape(3))\n",
    "print()\n",
    "print('Value of GMM criterion function at the estimated parameter = ', results1_3.fun)"
   ]
  },
  {
   "cell_type": "code",
   "execution_count": 18,
   "metadata": {},
   "outputs": [
    {
     "data": {
      "image/png": "[encoded data removed]",
      "text/plain": [
       "<Figure size 432x288 with 1 Axes>"
      ]
     },
     "metadata": {
      "needs_background": "light"
     },
     "output_type": "display_data"
    }
   ],
   "source": [
    "# Plot the estimated lognormal PDF against the data\n",
    "\n",
    "# data histogram\n",
    "num_bins = 30\n",
    "plt.hist(incomes, num_bins, density=True, edgecolor='k') # `normed` argument has been deprecated by `matplotlib.pyplot.hist`\n",
    "plt.title('MACSS Program\\nDistribution of Income after Graduation', fontsize=15)\n",
    "plt.xlabel(r'Income')\n",
    "plt.ylabel(r'Percent')\n",
    "plt.xlim([1, 150000])\n",
    "\n",
    "# pdf plot for GMM3 result\n",
    "dis_pts = np.linspace(cut_lb, cut_ub, 1000)\n",
    "plt.plot(dis_pts, trunc_lognorm_pdf(dis_pts, mu_GMM1_3, sig_GMM1_3, cut_lb, cut_ub),\n",
    "         linewidth=2, color='r', label=f'$\\mu$={round(mu_GMM1_3, 10)}  $\\sigma$={round(sig_GMM1_3, 10)}')\n",
    "plt.legend(loc='upper left')\n",
    "plt.show()"
   ]
  },
  {
   "cell_type": "markdown",
   "metadata": {},
   "source": [
    "> Note: In Dr.Evan's notebook, the definition of `get_Err_mat` function is different from the mathematical formula. Here I stick to the theoretical formula, where the each element in the matrix is $ \\mathrm{modelmoment} - \\mathrm{datamoment} $ or $ \\frac{\\mathrm{modelmoment} - \\mathrm{datamoment}}{\\mathrm{datamoment}} $. "
   ]
  },
  {
   "cell_type": "code",
   "execution_count": 19,
   "metadata": {},
   "outputs": [],
   "source": [
    "# Define a functions that computes the R x N matrix of errors \n",
    "# from each observation for each moment. \n",
    "def get_Err_mat3(pts, mu, sigma, cut_lb, cut_ub, simple=False):\n",
    "\n",
    "    R = 3\n",
    "    N = len(pts)\n",
    "    Err_mat = np.zeros((R, N))\n",
    "    pct_1_mod, pct_2_mod, pct_3_mod = \\\n",
    "        model_moments3(mu, sigma, cut_lb, cut_ub)\n",
    "    if simple:\n",
    "        pts_in_grp1 = pts < 75000\n",
    "        Err_mat[0, :] = pct_1_mod - pts_in_grp1\n",
    "        pts_in_grp2 = (pts >= 75000) & (pts < 100000)\n",
    "        Err_mat[1, :] = pct_2_mod - pts_in_grp2\n",
    "        pts_in_grp3 = (pts >= 100000)\n",
    "        Err_mat[2, :] = pct_3_mod - pts_in_grp3 \n",
    "    else:\n",
    "        pts_in_grp1 = pts < 75000\n",
    "        Err_mat[0, :] = (pct_1_mod - pts_in_grp1) / pts_in_grp1\n",
    "        pts_in_grp2 = (pts >= 75000) & (pts < 100000)\n",
    "        Err_mat[1, :] = (pct_2_mod - pts_in_grp2) / pts_in_grp2\n",
    "        pts_in_grp3 = (pts >= 100000)\n",
    "        Err_mat[2, :] = (pct_3_mod - pts_in_grp3) / pts_in_grp3\n",
    "    \n",
    "    return Err_mat"
   ]
  },
  {
   "cell_type": "code",
   "execution_count": 20,
   "metadata": {},
   "outputs": [
    {
     "name": "stdout",
     "output_type": "stream",
     "text": [
      "Variance Covariance Matrix: \n",
      " [[ 0.21 -0.15 -0.06]\n",
      " [-0.15  0.25 -0.1 ]\n",
      " [-0.06 -0.1   0.16]]\n",
      "Weighting Matrix: \n",
      " [[ 2.25925926 -0.62962963 -1.62962963]\n",
      " [-0.62962963  1.81481481 -1.18518519]\n",
      " [-1.62962963 -1.18518519  2.81481481]]\n"
     ]
    }
   ],
   "source": [
    "# Calculate the Variance Covariance Matrix of error from the first GMM \n",
    "# and the 2 step optimal Weighting Matrix\n",
    "Err_mat3 = get_Err_mat3(incomes, mu_GMM1_3, sig_GMM1_3, cut_lb, cut_ub, simple=True)\n",
    "VCV2_3 = (1 / incomes.shape[0]) * (Err_mat3 @ Err_mat3.T)\n",
    "print('Variance Covariance Matrix: \\n', VCV2_3)\n",
    "# We use the pseudo-inverse command here because the VCV matrix is poorly conditioned\n",
    "W_hat2_3 = lin.pinv(VCV2_3)\n",
    "print('Weighting Matrix: \\n', W_hat2_3)"
   ]
  },
  {
   "cell_type": "code",
   "execution_count": 21,
   "metadata": {},
   "outputs": [
    {
     "data": {
      "text/plain": [
       "      fun: array([[2.48734368e-13]])\n",
       " hess_inv: <2x2 LbfgsInvHessProduct with dtype=float64>\n",
       "      jac: array([1.74735161e-06, 1.15212111e-05])\n",
       "  message: b'CONVERGENCE: REL_REDUCTION_OF_F_<=_FACTR*EPSMCH'\n",
       "     nfev: 9\n",
       "      nit: 1\n",
       "   status: 0\n",
       "  success: True\n",
       "        x: array([11.33670517,  0.21151357])"
      ]
     },
     "execution_count": 21,
     "metadata": {},
     "output_type": "execute_result"
    }
   ],
   "source": [
    "mu_init = mu_GMM1_3\n",
    "sig_init = sig_GMM1_3\n",
    "params_init = np.array([mu_init, sig_init])\n",
    "gmm_args = (incomes, cut_lb, cut_ub, W_hat2_3)\n",
    "results2_3 = opt.minimize(criterion3, params_init, args=(gmm_args),\n",
    "                       method='L-BFGS-B', bounds=((1e-10, None), (1e-10, None)))\n",
    "mu_GMM2_3, sig_GMM2_3 = results2_3.x\n",
    "results2_3"
   ]
  },
  {
   "cell_type": "code",
   "execution_count": 22,
   "metadata": {},
   "outputs": [
    {
     "name": "stdout",
     "output_type": "stream",
     "text": [
      "mu_GMM2_3 = 11.336705169978407  sig_GMM2_3 = 0.2115135669478794\n",
      "\n",
      "Percent of Individuals\n",
      "data moment %<75,000\n",
      " 0.3\n",
      "model moment %<75,000\n",
      " 0.30000006557965947\n",
      "\n",
      "data moment %>75,000, <100000\n",
      " 0.5\n",
      "model moment %>75,000, <100000\n",
      " 0.49999990488958057\n",
      "\n",
      "data moment %>100000\n",
      " 0.2\n",
      "model moment %>100000\n",
      " 0.2000000295307601\n",
      "\n",
      "Error vector =  [ 2.18598865e-07 -1.90220839e-07  1.47653800e-07]\n",
      "\n",
      "Value of GMM criterion function at the estimated parameter =  [[2.48734368e-13]]\n"
     ]
    }
   ],
   "source": [
    "# Print the result\n",
    "print('mu_GMM2_3 =', mu_GMM2_3, ' sig_GMM2_3 =', sig_GMM2_3)\n",
    "print()\n",
    "print('Percent of Individuals')\n",
    "print('data moment %<75,000\\n', data_moments3(incomes)[0])\n",
    "print('model moment %<75,000\\n', model_moments3(mu_GMM2_3, sig_GMM2_3, cut_lb, cut_ub)[0])\n",
    "print()\n",
    "print('data moment %>75,000, <100000\\n', data_moments3(incomes)[1])\n",
    "print('model moment %>75,000, <100000\\n', model_moments3(mu_GMM2_3, sig_GMM2_3, cut_lb, cut_ub)[1])\n",
    "print()\n",
    "print('data moment %>100000\\n', data_moments3(incomes)[2])\n",
    "print('model moment %>100000\\n', model_moments3(mu_GMM2_3, sig_GMM2_3, cut_lb, cut_ub)[2])\n",
    "print()\n",
    "print('Error vector = ',  err_vec3(incomes, mu_GMM2_3, sig_GMM2_3, cut_lb, cut_ub, simple=False).reshape(3))\n",
    "print()\n",
    "print('Value of GMM criterion function at the estimated parameter = ', results2_3.fun)"
   ]
  },
  {
   "cell_type": "code",
   "execution_count": 23,
   "metadata": {},
   "outputs": [
    {
     "data": {
      "image/png": "[encoded data removed]",
      "text/plain": [
       "<Figure size 432x288 with 1 Axes>"
      ]
     },
     "metadata": {
      "needs_background": "light"
     },
     "output_type": "display_data"
    }
   ],
   "source": [
    "# Plot the estimated lognormal PDF against the data\n",
    "\n",
    "# data histogram\n",
    "num_bins = 30\n",
    "plt.hist(incomes, num_bins, density=True, edgecolor='k') # `normed` argument has been deprecated by `matplotlib.pyplot.hist`\n",
    "plt.title('MACSS Program\\nDistribution of Income after Graduation', fontsize=15)\n",
    "plt.xlabel(r'Income')\n",
    "plt.ylabel(r'Percent')\n",
    "plt.xlim([1, 150000])\n",
    "\n",
    "# pdf plot for GMM1_3 result\n",
    "dis_pts = np.linspace(cut_lb, cut_ub, 1000)\n",
    "plt.plot(dis_pts, trunc_lognorm_pdf(dis_pts, mu_GMM1_3, sig_GMM1_3, cut_lb, cut_ub),\n",
    "         linewidth=2, color='r', label=f'$\\mu$={round(mu_GMM1_3, 10)}  $\\sigma$={round(sig_GMM1_3, 10)}')\n",
    "\n",
    "# pdf plot for GMM2_3 result\n",
    "dis_pts = np.linspace(cut_lb, cut_ub, 1000)\n",
    "plt.plot(dis_pts, trunc_lognorm_pdf(dis_pts, mu_GMM2_3, sig_GMM2_3, cut_lb, cut_ub),\n",
    "         linewidth=2, color='g', label=f'$\\mu$={round(mu_GMM2_3, 10)}  $\\sigma$={round(sig_GMM2_3, 10)}')\n",
    "plt.legend(loc='upper left')\n",
    "plt.show()"
   ]
  },
  {
   "cell_type": "markdown",
   "metadata": {},
   "source": [
    "## Problem 1.f"
   ]
  },
  {
   "cell_type": "code",
   "execution_count": 24,
   "metadata": {},
   "outputs": [
    {
     "data": {
      "text/html": [
       "<div>\n",
       "<style scoped>\n",
       "    .dataframe tbody tr th:only-of-type {\n",
       "        vertical-align: middle;\n",
       "    }\n",
       "\n",
       "    .dataframe tbody tr th {\n",
       "        vertical-align: top;\n",
       "    }\n",
       "\n",
       "    .dataframe thead th {\n",
       "        text-align: right;\n",
       "    }\n",
       "</style>\n",
       "<table border=\"1\" class=\"dataframe\">\n",
       "  <thead>\n",
       "    <tr style=\"text-align: right;\">\n",
       "      <th></th>\n",
       "      <th>mu_GMM</th>\n",
       "      <th>sigma_GMM</th>\n",
       "      <th>Criterion function value</th>\n",
       "    </tr>\n",
       "  </thead>\n",
       "  <tbody>\n",
       "    <tr>\n",
       "      <th>R=2 identity</th>\n",
       "      <td>11.333533</td>\n",
       "      <td>0.213862</td>\n",
       "      <td>6.357629e-16</td>\n",
       "    </tr>\n",
       "    <tr>\n",
       "      <th>R=2 2step</th>\n",
       "      <td>11.333533</td>\n",
       "      <td>0.213862</td>\n",
       "      <td>4.279416e-16</td>\n",
       "    </tr>\n",
       "    <tr>\n",
       "      <th>R=3 identity</th>\n",
       "      <td>11.336705</td>\n",
       "      <td>0.211514</td>\n",
       "      <td>4.296139e-13</td>\n",
       "    </tr>\n",
       "    <tr>\n",
       "      <th>R=3 2step</th>\n",
       "      <td>11.336705</td>\n",
       "      <td>0.211514</td>\n",
       "      <td>2.487344e-13</td>\n",
       "    </tr>\n",
       "  </tbody>\n",
       "</table>\n",
       "</div>"
      ],
      "text/plain": [
       "                 mu_GMM  sigma_GMM  Criterion function value\n",
       "R=2 identity  11.333533   0.213862              6.357629e-16\n",
       "R=2 2step     11.333533   0.213862              4.279416e-16\n",
       "R=3 identity  11.336705   0.211514              4.296139e-13\n",
       "R=3 2step     11.336705   0.211514              2.487344e-13"
      ]
     },
     "execution_count": 24,
     "metadata": {},
     "output_type": "execute_result"
    }
   ],
   "source": [
    "mu_GMM_list = [mu_GMM1_2, mu_GMM2_2, mu_GMM1_3, mu_GMM2_3]\n",
    "sig_GMM_list = [sig_GMM1_2, sig_GMM2_2, sig_GMM1_3, sig_GMM2_3]\n",
    "fun_list = [results1_2.fun, results2_2.fun, results1_3.fun, results2_3.fun]\n",
    "pd.DataFrame(data={\"mu_GMM\":mu_GMM_list, \n",
    "              \"sigma_GMM\":sig_GMM_list, \n",
    "              \"Criterion function value\": fun_list}, \n",
    "             index=['R=2 identity', \n",
    "                    'R=2 2step', \n",
    "                    'R=3 identity', \n",
    "                    'R=3 2step']).astype(float)"
   ]
  },
  {
   "cell_type": "markdown",
   "metadata": {},
   "source": [
    "The four GMM models above give very similar results, all of which fit the data well. To decide which is the best estimate, we have to find a reasonable measurement of the quality of estimation. Here we can get the criterion function value of each result. However, since the weighting matrices and the moment conditions are different, comparing the criterion function value reveals nothing useful about the quality of estimation. \n",
    "\n",
    "I turn to use the variance-covariance matrix and try to evaluate the reliability of estimation by comparing the standard error of the estiamted parameters. Since the standard error is comparable across different methods, I argue that this is a reasonable criterion to evaluate different results. "
   ]
  },
  {
   "cell_type": "code",
   "execution_count": 25,
   "metadata": {},
   "outputs": [],
   "source": [
    "def Jac_err2(xvals, mu, sigma, cut_lb, cut_ub, simple=True):\n",
    "    '''\n",
    "    This function computes the Jacobian matrix of partial derivatives of the R x 1 moment\n",
    "    error vector e(x|theta) with respect to the K parameters theta_i in the K x 1 parameter vector\n",
    "    theta. The resulting matrix is R x K Jacobian.\n",
    "    '''\n",
    "    Jac_err = np.zeros((2, 2))\n",
    "    h_mu = 1e-8 * mu\n",
    "    h_sig = 1e-8 * sigma\n",
    "    Jac_err[:, 0] = \\\n",
    "        ((err_vec(xvals, mu + h_mu, sigma, cut_lb, cut_ub, simple) -\n",
    "          err_vec(xvals, mu - h_mu, sigma, cut_lb, cut_ub, simple)) / (2 * h_mu)).flatten()\n",
    "    Jac_err[:, 1] = \\\n",
    "        ((err_vec(xvals, mu, sigma + h_sig, cut_lb, cut_ub, simple) -\n",
    "          err_vec(xvals, mu, sigma - h_sig, cut_lb, cut_ub, simple)) / (2 * h_sig)).flatten()\n",
    "    \n",
    "    return Jac_err"
   ]
  },
  {
   "cell_type": "code",
   "execution_count": 26,
   "metadata": {},
   "outputs": [],
   "source": [
    "def Jac_err3(xvals, mu, sigma, cut_lb, cut_ub, simple=False):\n",
    "    '''\n",
    "    This function computes the Jacobian matrix of partial derivatives of the R x 1 moment\n",
    "    error vector e(x|theta) with respect to the K parameters theta_i in the K x 1 parameter vector\n",
    "    theta. The resulting matrix is R x K Jacobian.\n",
    "    '''\n",
    "    Jac_err = np.zeros((3, 2))\n",
    "    h_mu = 1e-8 * mu\n",
    "    h_sig = 1e-8 * sigma\n",
    "    Jac_err[:, 0] = \\\n",
    "        ((err_vec3(xvals, mu + h_mu, sigma, cut_lb, cut_ub, simple) -\n",
    "          err_vec3(xvals, mu - h_mu, sigma, cut_lb, cut_ub, simple)) / (2 * h_mu)).flatten()\n",
    "    Jac_err[:, 1] = \\\n",
    "        ((err_vec3(xvals, mu, sigma + h_sig, cut_lb, cut_ub, simple) -\n",
    "          err_vec3(xvals, mu, sigma - h_sig, cut_lb, cut_ub, simple)) / (2 * h_sig)).flatten()\n",
    "    \n",
    "    return Jac_err"
   ]
  },
  {
   "cell_type": "code",
   "execution_count": 27,
   "metadata": {},
   "outputs": [
    {
     "name": "stdout",
     "output_type": "stream",
     "text": [
      "Moment condition: mu, var\n",
      "Weighting matrix: identity\n",
      "\n",
      "Estimated parameters:  11.333533482547018 0.21386191435240126\n",
      "Variance-covariance matrix of the estimated parameters: \n",
      "[[4.25158254e+03 8.66871292e+01]\n",
      " [8.66871292e+01 1.76749873e+00]]\n",
      "Std. err. mu_hat= 65.204160460001\n",
      "Std. err. sig_hat= 1.3294731038863856\n"
     ]
    }
   ],
   "source": [
    "print('Moment condition: mu, var\\nWeighting matrix: identity\\n')\n",
    "print('Estimated parameters: ', mu_GMM1_2, sig_GMM1_2)\n",
    "N = incomes.shape[0]\n",
    "d_err2 = Jac_err2(incomes, mu_GMM1_2, sig_GMM1_2, 0.0, 450.0, True)\n",
    "SigHatSqr1_2 = (1 / N) * lin.inv(d_err2.T @ W_hat1_2 @ d_err2)\n",
    "print('Variance-covariance matrix of the estimated parameters: ')\n",
    "print(SigHatSqr1_2)\n",
    "print('Std. err. mu_hat=', np.sqrt(SigHatSqr1_2[0, 0]))\n",
    "print('Std. err. sig_hat=', np.sqrt(SigHatSqr1_2[1, 1]))"
   ]
  },
  {
   "cell_type": "code",
   "execution_count": 28,
   "metadata": {},
   "outputs": [
    {
     "name": "stdout",
     "output_type": "stream",
     "text": [
      "Moment condition: mu, var\n",
      "Weighting matrix: 2-step\n",
      "\n",
      "Estimated parameters:  11.333533472755567 0.2138619137414822\n",
      "Variance-covariance matrix of the estimated parameters: \n",
      "[[1.80096183e+12 3.67223615e+10]\n",
      " [3.67223615e+10 7.48784240e+08]]\n",
      "Std. err. mu_hat= 1341999.19276735\n",
      "Std. err. sig_hat= 27363.922229332427\n"
     ]
    }
   ],
   "source": [
    "print('Moment condition: mu, var\\nWeighting matrix: 2-step\\n')\n",
    "print('Estimated parameters: ', mu_GMM2_2, sig_GMM2_2)\n",
    "N = incomes.shape[0]\n",
    "d_err2 = Jac_err2(incomes, mu_GMM2_2, sig_GMM2_2, 0.0, 450.0, True)\n",
    "SigHatSqr2_2 = (1 / N) * lin.inv(d_err2.T @ W_hat2_2 @ d_err2)\n",
    "print('Variance-covariance matrix of the estimated parameters: ')\n",
    "print(SigHatSqr2_2)\n",
    "print('Std. err. mu_hat=', np.sqrt(SigHatSqr2_2[0, 0]))\n",
    "print('Std. err. sig_hat=', np.sqrt(SigHatSqr2_2[1, 1]))"
   ]
  },
  {
   "cell_type": "code",
   "execution_count": 29,
   "metadata": {},
   "outputs": [
    {
     "name": "stdout",
     "output_type": "stream",
     "text": [
      "Moment condition: percentages\n",
      "Weighting matrix: identity\n",
      "\n",
      "Estimated parameters:  11.336705110698398 0.21151357583827635\n",
      "Variance-covariance matrix of the estimated parameters: \n",
      "[[9.66183399e-274 3.92890796e-275]\n",
      " [3.92890796e-275 1.60045397e-276]]\n",
      "Std. err. mu_hat= 3.1083490778146143e-137\n",
      "Std. err. sigma_hat= 1.265090500368414e-138\n"
     ]
    }
   ],
   "source": [
    "print('Moment condition: percentages\\nWeighting matrix: identity\\n')\n",
    "print('Estimated parameters: ', mu_GMM1_3, sig_GMM1_3)\n",
    "N = incomes.shape[0]\n",
    "d_err3 = Jac_err3(incomes, mu_GMM1_3, sig_GMM1_3, 0.0, 450.0, False)\n",
    "SigHatSqr1_3 = (1 / N) * lin.inv(d_err3.T @ W_hat1_3 @ d_err3)\n",
    "print('Variance-covariance matrix of the estimated parameters: ')\n",
    "print(SigHatSqr1_3)\n",
    "print('Std. err. mu_hat=', np.sqrt(SigHatSqr1_3[0, 0]))\n",
    "print('Std. err. sigma_hat=', np.sqrt(SigHatSqr1_3[1, 1]))"
   ]
  },
  {
   "cell_type": "code",
   "execution_count": 30,
   "metadata": {},
   "outputs": [
    {
     "name": "stdout",
     "output_type": "stream",
     "text": [
      "Moment condition: percentages\n",
      "Weighting matrix: 2-step\n",
      "\n",
      "Estimated parameters:  11.336705169978407 0.2115135669478794\n",
      "Variance-covariance matrix of the estimated parameters: \n",
      "[[ 2.77202986e-274 -1.60908416e-274]\n",
      " [-1.60908416e-274  6.26869191e-274]]\n",
      "Std. err. mu_hat= 1.6649413979602055e-137\n",
      "Std. err. sigma_hat= 2.5037355920225113e-137\n"
     ]
    }
   ],
   "source": [
    "print('Moment condition: percentages\\nWeighting matrix: 2-step\\n')\n",
    "print('Estimated parameters: ', mu_GMM2_3, sig_GMM2_3)\n",
    "N = incomes.shape[0]\n",
    "d_err3 = Jac_err3(incomes, mu_GMM2_3, sig_GMM2_3, 0.0, 450.0, False)\n",
    "SigHatSqr2_3 = (1 / N) * lin.inv(d_err3.T @ W_hat2_3 @ d_err3)\n",
    "print('Variance-covariance matrix of the estimated parameters: ')\n",
    "print(SigHatSqr2_3)\n",
    "print('Std. err. mu_hat=', np.sqrt(SigHatSqr2_3[0, 0]))\n",
    "print('Std. err. sigma_hat=', np.sqrt(SigHatSqr2_3[1, 1]))"
   ]
  },
  {
   "cell_type": "code",
   "execution_count": 31,
   "metadata": {},
   "outputs": [
    {
     "data": {
      "text/html": [
       "<div>\n",
       "<style scoped>\n",
       "    .dataframe tbody tr th:only-of-type {\n",
       "        vertical-align: middle;\n",
       "    }\n",
       "\n",
       "    .dataframe tbody tr th {\n",
       "        vertical-align: top;\n",
       "    }\n",
       "\n",
       "    .dataframe thead th {\n",
       "        text-align: right;\n",
       "    }\n",
       "</style>\n",
       "<table border=\"1\" class=\"dataframe\">\n",
       "  <thead>\n",
       "    <tr style=\"text-align: right;\">\n",
       "      <th></th>\n",
       "      <th>mu_GMM</th>\n",
       "      <th>sigma_GMM</th>\n",
       "      <th>Criterion function value</th>\n",
       "      <th>mu_hat_stderr</th>\n",
       "      <th>sigma_hat_stderr</th>\n",
       "    </tr>\n",
       "  </thead>\n",
       "  <tbody>\n",
       "    <tr>\n",
       "      <th>R=2 identity</th>\n",
       "      <td>11.333533</td>\n",
       "      <td>0.213862</td>\n",
       "      <td>6.357629e-16</td>\n",
       "      <td>6.520416e+01</td>\n",
       "      <td>1.329473e+00</td>\n",
       "    </tr>\n",
       "    <tr>\n",
       "      <th>R=2 2step</th>\n",
       "      <td>11.333533</td>\n",
       "      <td>0.213862</td>\n",
       "      <td>4.279416e-16</td>\n",
       "      <td>1.341999e+06</td>\n",
       "      <td>2.736392e+04</td>\n",
       "    </tr>\n",
       "    <tr>\n",
       "      <th>R=3 identity</th>\n",
       "      <td>11.336705</td>\n",
       "      <td>0.211514</td>\n",
       "      <td>4.296139e-13</td>\n",
       "      <td>3.108349e-137</td>\n",
       "      <td>1.265091e-138</td>\n",
       "    </tr>\n",
       "    <tr>\n",
       "      <th>R=3 2step</th>\n",
       "      <td>11.336705</td>\n",
       "      <td>0.211514</td>\n",
       "      <td>2.487344e-13</td>\n",
       "      <td>1.664941e-137</td>\n",
       "      <td>2.503736e-137</td>\n",
       "    </tr>\n",
       "  </tbody>\n",
       "</table>\n",
       "</div>"
      ],
      "text/plain": [
       "                 mu_GMM  sigma_GMM  Criterion function value  mu_hat_stderr  \\\n",
       "R=2 identity  11.333533   0.213862              6.357629e-16   6.520416e+01   \n",
       "R=2 2step     11.333533   0.213862              4.279416e-16   1.341999e+06   \n",
       "R=3 identity  11.336705   0.211514              4.296139e-13  3.108349e-137   \n",
       "R=3 2step     11.336705   0.211514              2.487344e-13  1.664941e-137   \n",
       "\n",
       "              sigma_hat_stderr  \n",
       "R=2 identity      1.329473e+00  \n",
       "R=2 2step         2.736392e+04  \n",
       "R=3 identity     1.265091e-138  \n",
       "R=3 2step        2.503736e-137  "
      ]
     },
     "execution_count": 31,
     "metadata": {},
     "output_type": "execute_result"
    }
   ],
   "source": [
    "# Compare the standard errors\n",
    "mu_GMM_list = [mu_GMM1_2, mu_GMM2_2, mu_GMM1_3, mu_GMM2_3]\n",
    "sig_GMM_list = [sig_GMM1_2, sig_GMM2_2, sig_GMM1_3, sig_GMM2_3]\n",
    "mu_stderr_list = [np.sqrt(SigHatSqr1_2[0, 0]), np.sqrt(SigHatSqr2_2[0, 0]), np.sqrt(SigHatSqr1_3[0, 0]), np.sqrt(SigHatSqr2_3[0, 0])]\n",
    "sig_stderr_list = [np.sqrt(SigHatSqr1_2[1, 1]), np.sqrt(SigHatSqr2_2[1, 1]), np.sqrt(SigHatSqr1_3[1, 1]), np.sqrt(SigHatSqr2_3[1, 1])]\n",
    "pd.DataFrame(data={\"mu_GMM\": mu_GMM_list, \n",
    "                   \"sigma_GMM\": sig_GMM_list, \n",
    "                   \"Criterion function value\": fun_list, \n",
    "                   \"mu_hat_stderr\": mu_stderr_list, \n",
    "                   \"sigma_hat_stderr\": sig_stderr_list}, \n",
    "             index=['R=2 identity', \n",
    "                    'R=2 2step', \n",
    "                    'R=3 identity', \n",
    "                    'R=3 2step']).astype(float)"
   ]
  },
  {
   "cell_type": "markdown",
   "metadata": {},
   "source": [
    "In terms of standard error of the estimated parameters, the overidentified model with 2-step optimized weighting matrix gives the most reliable estimation. "
   ]
  },
  {
   "cell_type": "markdown",
   "metadata": {},
   "source": [
    "# Problem 2"
   ]
  },
  {
   "cell_type": "markdown",
   "metadata": {},
   "source": [
    "GMM Regression (OLS): \n",
    "\n",
    "- Moment conditions: $ y_i = \\hat{y}_i $\n",
    "- weighting matrix: identity"
   ]
  },
  {
   "cell_type": "markdown",
   "metadata": {},
   "source": [
    "## Problem 2.1"
   ]
  },
  {
   "cell_type": "code",
   "execution_count": 32,
   "metadata": {},
   "outputs": [
    {
     "data": {
      "text/html": [
       "<div>\n",
       "<style scoped>\n",
       "    .dataframe tbody tr th:only-of-type {\n",
       "        vertical-align: middle;\n",
       "    }\n",
       "\n",
       "    .dataframe tbody tr th {\n",
       "        vertical-align: top;\n",
       "    }\n",
       "\n",
       "    .dataframe thead th {\n",
       "        text-align: right;\n",
       "    }\n",
       "</style>\n",
       "<table border=\"1\" class=\"dataframe\">\n",
       "  <thead>\n",
       "    <tr style=\"text-align: right;\">\n",
       "      <th></th>\n",
       "      <th>sick</th>\n",
       "      <th>age</th>\n",
       "      <th>children</th>\n",
       "      <th>avgtemp_winter</th>\n",
       "      <th>constant</th>\n",
       "    </tr>\n",
       "  </thead>\n",
       "  <tbody>\n",
       "    <tr>\n",
       "      <th>0</th>\n",
       "      <td>1.67</td>\n",
       "      <td>57.47</td>\n",
       "      <td>3.04</td>\n",
       "      <td>54.10</td>\n",
       "      <td>1</td>\n",
       "    </tr>\n",
       "    <tr>\n",
       "      <th>1</th>\n",
       "      <td>0.71</td>\n",
       "      <td>26.77</td>\n",
       "      <td>1.20</td>\n",
       "      <td>36.54</td>\n",
       "      <td>1</td>\n",
       "    </tr>\n",
       "    <tr>\n",
       "      <th>2</th>\n",
       "      <td>1.39</td>\n",
       "      <td>41.85</td>\n",
       "      <td>2.31</td>\n",
       "      <td>32.38</td>\n",
       "      <td>1</td>\n",
       "    </tr>\n",
       "    <tr>\n",
       "      <th>3</th>\n",
       "      <td>1.37</td>\n",
       "      <td>51.27</td>\n",
       "      <td>2.46</td>\n",
       "      <td>52.94</td>\n",
       "      <td>1</td>\n",
       "    </tr>\n",
       "    <tr>\n",
       "      <th>4</th>\n",
       "      <td>1.45</td>\n",
       "      <td>44.22</td>\n",
       "      <td>2.72</td>\n",
       "      <td>45.90</td>\n",
       "      <td>1</td>\n",
       "    </tr>\n",
       "  </tbody>\n",
       "</table>\n",
       "</div>"
      ],
      "text/plain": [
       "   sick    age  children  avgtemp_winter  constant\n",
       "0  1.67  57.47      3.04           54.10         1\n",
       "1  0.71  26.77      1.20           36.54         1\n",
       "2  1.39  41.85      2.31           32.38         1\n",
       "3  1.37  51.27      2.46           52.94         1\n",
       "4  1.45  44.22      2.72           45.90         1"
      ]
     },
     "execution_count": 32,
     "metadata": {},
     "output_type": "execute_result"
    }
   ],
   "source": [
    "reg_data = pd.read_csv(\"data/sick.txt\").astype('float64')\n",
    "reg_data['constant'] = 1\n",
    "reg_data.head()"
   ]
  },
  {
   "cell_type": "code",
   "execution_count": 33,
   "metadata": {},
   "outputs": [],
   "source": [
    "y_vals = reg_data['sick']\n",
    "x_matrix = np.array(reg_data[['constant', 'age', 'children', 'avgtemp_winter']])"
   ]
  },
  {
   "cell_type": "code",
   "execution_count": 34,
   "metadata": {},
   "outputs": [],
   "source": [
    "def reg_data_moment(y_vals): \n",
    "    return y_vals\n",
    "\n",
    "\n",
    "def reg_model_moment(x_matrix, beta_array): \n",
    "    return x_matrix @ beta_array\n",
    "\n",
    "\n",
    "def reg_err_vec(y_vals, x_matrix, beta_array): \n",
    "    err_vec = y_vals - reg_model_moment(x_matrix, beta_array)\n",
    "    return err_vec\n",
    "    \n",
    "def reg_criterion(beta_array, *args): \n",
    "    y_vals, x_matrix, W = args\n",
    "    err_vec = reg_err_vec(y_vals, x_matrix, beta_array)\n",
    "    return err_vec.T @ W @ err_vec"
   ]
  },
  {
   "cell_type": "code",
   "execution_count": 35,
   "metadata": {},
   "outputs": [
    {
     "data": {
      "text/plain": [
       "      fun: 0.0018212896800919721\n",
       " hess_inv: array([[ 0.05280017,  0.00043398, -0.00904355, -0.00119908],\n",
       "       [ 0.00043398,  0.0002267 , -0.00202797, -0.00014215],\n",
       "       [-0.00904355, -0.00202797,  0.0208239 ,  0.00128675],\n",
       "       [-0.00119908, -0.00014215,  0.00128675,  0.0001096 ]])\n",
       "      jac: array([-5.39998437e-05,  1.43805082e-04, -1.46396444e-04,  5.16662316e-04])\n",
       "  message: 'Desired error not necessarily achieved due to precision loss.'\n",
       "     nfev: 480\n",
       "      nit: 4\n",
       "     njev: 78\n",
       "   status: 2\n",
       "  success: False\n",
       "        x: array([ 0.2516443 ,  0.01293358,  0.40049986, -0.00999176])"
      ]
     },
     "execution_count": 35,
     "metadata": {},
     "output_type": "execute_result"
    }
   ],
   "source": [
    "beta_init = 0, 0, 0, 0\n",
    "params_init = np.array([beta_init])\n",
    "W_hat_reg = np.eye(200)\n",
    "gmm_args = (y_vals, x_matrix, W_hat_reg)\n",
    "results_reg = opt.minimize(reg_criterion, params_init, args=(gmm_args))\n",
    "beta0, beta1, beta2, beta3 = results_reg.x\n",
    "results_reg"
   ]
  },
  {
   "cell_type": "code",
   "execution_count": 36,
   "metadata": {},
   "outputs": [
    {
     "name": "stdout",
     "output_type": "stream",
     "text": [
      "Estimation Result: \n",
      "\n",
      "VARIABLES        GNN Estimation\n",
      "----------------------------------------\n",
      "age              0.012933582649980412 \n",
      "\n",
      "children         0.400499861340649 \n",
      "\n",
      "avgtemp_winter   -0.009991760472725274 \n",
      "\n",
      "constant         0.2516442992222972 \n",
      "\n",
      "Criterion Function Value (SSE):  -0.0018212896800919721\n"
     ]
    }
   ],
   "source": [
    "print('Estimation Result: \\n')\n",
    "print('VARIABLES', ' ' * 6, 'GNN Estimation')\n",
    "print('-'*40)\n",
    "i = 0\n",
    "beta_print = [beta1, beta2, beta3, beta0]\n",
    "for column_name, column_data in reg_data[['age', 'children', 'avgtemp_winter', 'constant']].iteritems(): \n",
    "    print(column_name, ' ' * (15 - len(column_name)), beta_print[i], '\\n')\n",
    "    i += 1\n",
    "\n",
    "print('Criterion Function Value (SSE): ', - results_reg.fun)"
   ]
  },
  {
   "cell_type": "code",
   "execution_count": null,
   "metadata": {},
   "outputs": [],
   "source": []
  }
 ],
 "metadata": {
  "kernelspec": {
   "display_name": "Python 3",
   "language": "python",
   "name": "python3"
  },
  "language_info": {
   "codemirror_mode": {
    "name": "ipython",
    "version": 3
   },
   "file_extension": ".py",
   "mimetype": "text/x-python",
   "name": "python",
   "nbconvert_exporter": "python",
   "pygments_lexer": "ipython3",
   "version": "3.7.4"
  }
 },
 "nbformat": 4,
 "nbformat_minor": 2
}
