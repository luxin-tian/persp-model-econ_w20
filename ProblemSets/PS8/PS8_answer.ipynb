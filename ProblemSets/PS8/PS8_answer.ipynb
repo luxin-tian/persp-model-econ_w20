{
 "cells": [
  {
   "cell_type": "code",
   "execution_count": 211,
   "metadata": {},
   "outputs": [],
   "source": [
    "import pandas as pd\n",
    "import graphviz\n",
    "import matplotlib.pyplot as plt\n",
    "\n",
    "from sklearn.model_selection import train_test_split, KFold\n",
    "from sklearn.metrics import mean_squared_error\n",
    "from sklearn.tree import DecisionTreeRegressor, DecisionTreeClassifier, export_graphviz\n",
    "from sklearn.ensemble import RandomForestRegressor, RandomForestClassifier\n",
    "from sklearn.svm import SVC\n",
    "from sklearn.model_selection import RandomizedSearchCV, GridSearchCV\n",
    "from scipy.stats import randint as sp_randint\n",
    "from scipy.stats import uniform as sp_uniform\n",
    "\n",
    "from sklearn.linear_model import LogisticRegression"
   ]
  },
  {
   "cell_type": "markdown",
   "metadata": {},
   "source": [
    "# Problem 1"
   ]
  },
  {
   "cell_type": "markdown",
   "metadata": {},
   "source": [
    "## Problem 1.a"
   ]
  },
  {
   "cell_type": "code",
   "execution_count": 102,
   "metadata": {},
   "outputs": [
    {
     "data": {
      "text/html": [
       "<div>\n",
       "<style scoped>\n",
       "    .dataframe tbody tr th:only-of-type {\n",
       "        vertical-align: middle;\n",
       "    }\n",
       "\n",
       "    .dataframe tbody tr th {\n",
       "        vertical-align: top;\n",
       "    }\n",
       "\n",
       "    .dataframe thead th {\n",
       "        text-align: right;\n",
       "    }\n",
       "</style>\n",
       "<table border=\"1\" class=\"dataframe\">\n",
       "  <thead>\n",
       "    <tr style=\"text-align: right;\">\n",
       "      <th></th>\n",
       "      <th>biden</th>\n",
       "      <th>female</th>\n",
       "      <th>age</th>\n",
       "      <th>educ</th>\n",
       "      <th>dem</th>\n",
       "      <th>rep</th>\n",
       "    </tr>\n",
       "  </thead>\n",
       "  <tbody>\n",
       "    <tr>\n",
       "      <th>0</th>\n",
       "      <td>90</td>\n",
       "      <td>0</td>\n",
       "      <td>19</td>\n",
       "      <td>12</td>\n",
       "      <td>1</td>\n",
       "      <td>0</td>\n",
       "    </tr>\n",
       "    <tr>\n",
       "      <th>1</th>\n",
       "      <td>70</td>\n",
       "      <td>1</td>\n",
       "      <td>51</td>\n",
       "      <td>14</td>\n",
       "      <td>1</td>\n",
       "      <td>0</td>\n",
       "    </tr>\n",
       "    <tr>\n",
       "      <th>2</th>\n",
       "      <td>60</td>\n",
       "      <td>0</td>\n",
       "      <td>27</td>\n",
       "      <td>14</td>\n",
       "      <td>0</td>\n",
       "      <td>0</td>\n",
       "    </tr>\n",
       "    <tr>\n",
       "      <th>3</th>\n",
       "      <td>50</td>\n",
       "      <td>1</td>\n",
       "      <td>43</td>\n",
       "      <td>14</td>\n",
       "      <td>1</td>\n",
       "      <td>0</td>\n",
       "    </tr>\n",
       "    <tr>\n",
       "      <th>4</th>\n",
       "      <td>60</td>\n",
       "      <td>1</td>\n",
       "      <td>38</td>\n",
       "      <td>14</td>\n",
       "      <td>0</td>\n",
       "      <td>1</td>\n",
       "    </tr>\n",
       "  </tbody>\n",
       "</table>\n",
       "</div>"
      ],
      "text/plain": [
       "   biden  female  age  educ  dem  rep\n",
       "0     90       0   19    12    1    0\n",
       "1     70       1   51    14    1    0\n",
       "2     60       0   27    14    0    0\n",
       "3     50       1   43    14    1    0\n",
       "4     60       1   38    14    0    1"
      ]
     },
     "execution_count": 102,
     "metadata": {},
     "output_type": "execute_result"
    }
   ],
   "source": [
    "# Load the data\n",
    "biden_df = pd.read_csv('biden.csv')\n",
    "biden_df.head()"
   ]
  },
  {
   "cell_type": "code",
   "execution_count": 103,
   "metadata": {},
   "outputs": [],
   "source": [
    "y = biden_df['biden']\n",
    "X = biden_df[['female', 'age', 'educ', 'dem', 'rep']]"
   ]
  },
  {
   "cell_type": "code",
   "execution_count": 104,
   "metadata": {},
   "outputs": [],
   "source": [
    "# Split the data into a training set and a testing set\n",
    "X_train, X_test, y_train, y_test = train_test_split(\n",
    "    X, y, test_size=.3, random_state=25)"
   ]
  },
  {
   "cell_type": "code",
   "execution_count": 105,
   "metadata": {},
   "outputs": [
    {
     "data": {
      "text/plain": [
       "DecisionTreeRegressor(criterion='mse', max_depth=3, max_features=None,\n",
       "                      max_leaf_nodes=None, min_impurity_decrease=0.0,\n",
       "                      min_impurity_split=None, min_samples_leaf=5,\n",
       "                      min_samples_split=2, min_weight_fraction_leaf=0.0,\n",
       "                      presort=False, random_state=None, splitter='best')"
      ]
     },
     "execution_count": 105,
     "metadata": {},
     "output_type": "execute_result"
    }
   ],
   "source": [
    "# Perform a decision tree regression\n",
    "biden_tree = DecisionTreeRegressor(max_depth=3, min_samples_leaf=5)\n",
    "biden_tree.fit(X_train, y_train)"
   ]
  },
  {
   "cell_type": "code",
   "execution_count": 106,
   "metadata": {
    "scrolled": false
   },
   "outputs": [
    {
     "data": {
      "image/svg+xml": [
       "<?xml version=\"1.0\" encoding=\"UTF-8\" standalone=\"no\"?>\n",
       "<!DOCTYPE svg PUBLIC \"-//W3C//DTD SVG 1.1//EN\"\n",
       " \"http://www.w3.org/Graphics/SVG/1.1/DTD/svg11.dtd\">\n",
       "<!-- Generated by graphviz version 2.40.1 (20161225.0304)\n",
       " -->\n",
       "<!-- Title: Tree Pages: 1 -->\n",
       "<svg width=\"562pt\" height=\"558pt\"\n",
       " viewBox=\"0.00 0.00 562.00 558.00\" xmlns=\"http://www.w3.org/2000/svg\" xmlns:xlink=\"http://www.w3.org/1999/xlink\">\n",
       "<g id=\"graph0\" class=\"graph\" transform=\"scale(1 1) rotate(0) translate(4 554)\">\n",
       "<title>Tree</title>\n",
       "<polygon fill=\"#ffffff\" stroke=\"transparent\" points=\"-4,4 -4,-554 558,-554 558,4 -4,4\"/>\n",
       "<!-- 0 -->\n",
       "<g id=\"node1\" class=\"node\">\n",
       "<title>0</title>\n",
       "<path fill=\"#f0b78f\" stroke=\"#000000\" d=\"M104,-336.5C104,-336.5 12,-336.5 12,-336.5 6,-336.5 0,-330.5 0,-324.5 0,-324.5 0,-280.5 0,-280.5 0,-274.5 6,-268.5 12,-268.5 12,-268.5 104,-268.5 104,-268.5 110,-268.5 116,-274.5 116,-280.5 116,-280.5 116,-324.5 116,-324.5 116,-330.5 110,-336.5 104,-336.5\"/>\n",
       "<text text-anchor=\"middle\" x=\"58\" y=\"-321.3\" font-family=\"Helvetica,sans-Serif\" font-size=\"14.00\" fill=\"#000000\">dem &lt;= 0.5</text>\n",
       "<text text-anchor=\"middle\" x=\"58\" y=\"-306.3\" font-family=\"Helvetica,sans-Serif\" font-size=\"14.00\" fill=\"#000000\">mse = 556.262</text>\n",
       "<text text-anchor=\"middle\" x=\"58\" y=\"-291.3\" font-family=\"Helvetica,sans-Serif\" font-size=\"14.00\" fill=\"#000000\">samples = 1264</text>\n",
       "<text text-anchor=\"middle\" x=\"58\" y=\"-276.3\" font-family=\"Helvetica,sans-Serif\" font-size=\"14.00\" fill=\"#000000\">value = 62.165</text>\n",
       "</g>\n",
       "<!-- 1 -->\n",
       "<g id=\"node2\" class=\"node\">\n",
       "<title>1</title>\n",
       "<path fill=\"#f6d4bb\" stroke=\"#000000\" d=\"M250,-372.5C250,-372.5 164,-372.5 164,-372.5 158,-372.5 152,-366.5 152,-360.5 152,-360.5 152,-316.5 152,-316.5 152,-310.5 158,-304.5 164,-304.5 164,-304.5 250,-304.5 250,-304.5 256,-304.5 262,-310.5 262,-316.5 262,-316.5 262,-360.5 262,-360.5 262,-366.5 256,-372.5 250,-372.5\"/>\n",
       "<text text-anchor=\"middle\" x=\"207\" y=\"-357.3\" font-family=\"Helvetica,sans-Serif\" font-size=\"14.00\" fill=\"#000000\">rep &lt;= 0.5</text>\n",
       "<text text-anchor=\"middle\" x=\"207\" y=\"-342.3\" font-family=\"Helvetica,sans-Serif\" font-size=\"14.00\" fill=\"#000000\">mse = 507.397</text>\n",
       "<text text-anchor=\"middle\" x=\"207\" y=\"-327.3\" font-family=\"Helvetica,sans-Serif\" font-size=\"14.00\" fill=\"#000000\">samples = 724</text>\n",
       "<text text-anchor=\"middle\" x=\"207\" y=\"-312.3\" font-family=\"Helvetica,sans-Serif\" font-size=\"14.00\" fill=\"#000000\">value = 52.811</text>\n",
       "</g>\n",
       "<!-- 0&#45;&gt;1 -->\n",
       "<g id=\"edge1\" class=\"edge\">\n",
       "<title>0&#45;&gt;1</title>\n",
       "<path fill=\"none\" stroke=\"#000000\" d=\"M116.0339,-316.5216C124.4912,-318.565 133.2464,-320.6803 141.8336,-322.7551\"/>\n",
       "<polygon fill=\"#000000\" stroke=\"#000000\" points=\"141.2667,-326.2188 151.809,-325.1653 142.9107,-319.4145 141.2667,-326.2188\"/>\n",
       "<text text-anchor=\"middle\" x=\"130.4741\" y=\"-334.4968\" font-family=\"Helvetica,sans-Serif\" font-size=\"14.00\" fill=\"#000000\">True</text>\n",
       "</g>\n",
       "<!-- 8 -->\n",
       "<g id=\"node9\" class=\"node\">\n",
       "<title>8</title>\n",
       "<path fill=\"#e89253\" stroke=\"#000000\" d=\"M250,-245.5C250,-245.5 164,-245.5 164,-245.5 158,-245.5 152,-239.5 152,-233.5 152,-233.5 152,-189.5 152,-189.5 152,-183.5 158,-177.5 164,-177.5 164,-177.5 250,-177.5 250,-177.5 256,-177.5 262,-183.5 262,-189.5 262,-189.5 262,-233.5 262,-233.5 262,-239.5 256,-245.5 250,-245.5\"/>\n",
       "<text text-anchor=\"middle\" x=\"207\" y=\"-230.3\" font-family=\"Helvetica,sans-Serif\" font-size=\"14.00\" fill=\"#000000\">age &lt;= 54.5</text>\n",
       "<text text-anchor=\"middle\" x=\"207\" y=\"-215.3\" font-family=\"Helvetica,sans-Serif\" font-size=\"14.00\" fill=\"#000000\">mse = 347.197</text>\n",
       "<text text-anchor=\"middle\" x=\"207\" y=\"-200.3\" font-family=\"Helvetica,sans-Serif\" font-size=\"14.00\" fill=\"#000000\">samples = 540</text>\n",
       "<text text-anchor=\"middle\" x=\"207\" y=\"-185.3\" font-family=\"Helvetica,sans-Serif\" font-size=\"14.00\" fill=\"#000000\">value = 74.706</text>\n",
       "</g>\n",
       "<!-- 0&#45;&gt;8 -->\n",
       "<g id=\"edge8\" class=\"edge\">\n",
       "<title>0&#45;&gt;8</title>\n",
       "<path fill=\"none\" stroke=\"#000000\" d=\"M113.906,-268.3561C123.3895,-262.5642 133.3023,-256.51 142.9748,-250.6026\"/>\n",
       "<polygon fill=\"#000000\" stroke=\"#000000\" points=\"145.061,-253.4297 151.771,-245.2305 141.4124,-247.4557 145.061,-253.4297\"/>\n",
       "<text text-anchor=\"middle\" x=\"127.4705\" y=\"-235.6579\" font-family=\"Helvetica,sans-Serif\" font-size=\"14.00\" fill=\"#000000\">False</text>\n",
       "</g>\n",
       "<!-- 2 -->\n",
       "<g id=\"node3\" class=\"node\">\n",
       "<title>2</title>\n",
       "<path fill=\"#f2c19e\" stroke=\"#000000\" d=\"M396,-486.5C396,-486.5 310,-486.5 310,-486.5 304,-486.5 298,-480.5 298,-474.5 298,-474.5 298,-430.5 298,-430.5 298,-424.5 304,-418.5 310,-418.5 310,-418.5 396,-418.5 396,-418.5 402,-418.5 408,-424.5 408,-430.5 408,-430.5 408,-474.5 408,-474.5 408,-480.5 402,-486.5 396,-486.5\"/>\n",
       "<text text-anchor=\"middle\" x=\"353\" y=\"-471.3\" font-family=\"Helvetica,sans-Serif\" font-size=\"14.00\" fill=\"#000000\">female &lt;= 0.5</text>\n",
       "<text text-anchor=\"middle\" x=\"353\" y=\"-456.3\" font-family=\"Helvetica,sans-Serif\" font-size=\"14.00\" fill=\"#000000\">mse = 444.551</text>\n",
       "<text text-anchor=\"middle\" x=\"353\" y=\"-441.3\" font-family=\"Helvetica,sans-Serif\" font-size=\"14.00\" fill=\"#000000\">samples = 468</text>\n",
       "<text text-anchor=\"middle\" x=\"353\" y=\"-426.3\" font-family=\"Helvetica,sans-Serif\" font-size=\"14.00\" fill=\"#000000\">value = 58.868</text>\n",
       "</g>\n",
       "<!-- 1&#45;&gt;2 -->\n",
       "<g id=\"edge2\" class=\"edge\">\n",
       "<title>1&#45;&gt;2</title>\n",
       "<path fill=\"none\" stroke=\"#000000\" d=\"M250.8048,-372.7038C266.685,-385.1034 284.7721,-399.2262 301.2709,-412.1088\"/>\n",
       "<polygon fill=\"#000000\" stroke=\"#000000\" points=\"299.1902,-414.9247 309.2261,-418.3204 303.4982,-409.4073 299.1902,-414.9247\"/>\n",
       "</g>\n",
       "<!-- 5 -->\n",
       "<g id=\"node6\" class=\"node\">\n",
       "<title>5</title>\n",
       "<path fill=\"#fdf5ef\" stroke=\"#000000\" d=\"M396,-372.5C396,-372.5 310,-372.5 310,-372.5 304,-372.5 298,-366.5 298,-360.5 298,-360.5 298,-316.5 298,-316.5 298,-310.5 304,-304.5 310,-304.5 310,-304.5 396,-304.5 396,-304.5 402,-304.5 408,-310.5 408,-316.5 408,-316.5 408,-360.5 408,-360.5 408,-366.5 402,-372.5 396,-372.5\"/>\n",
       "<text text-anchor=\"middle\" x=\"353\" y=\"-357.3\" font-family=\"Helvetica,sans-Serif\" font-size=\"14.00\" fill=\"#000000\">female &lt;= 0.5</text>\n",
       "<text text-anchor=\"middle\" x=\"353\" y=\"-342.3\" font-family=\"Helvetica,sans-Serif\" font-size=\"14.00\" fill=\"#000000\">mse = 432.623</text>\n",
       "<text text-anchor=\"middle\" x=\"353\" y=\"-327.3\" font-family=\"Helvetica,sans-Serif\" font-size=\"14.00\" fill=\"#000000\">samples = 256</text>\n",
       "<text text-anchor=\"middle\" x=\"353\" y=\"-312.3\" font-family=\"Helvetica,sans-Serif\" font-size=\"14.00\" fill=\"#000000\">value = 41.738</text>\n",
       "</g>\n",
       "<!-- 1&#45;&gt;5 -->\n",
       "<g id=\"edge5\" class=\"edge\">\n",
       "<title>1&#45;&gt;5</title>\n",
       "<path fill=\"none\" stroke=\"#000000\" d=\"M262.1963,-338.5C270.4633,-338.5 279.0546,-338.5 287.5101,-338.5\"/>\n",
       "<polygon fill=\"#000000\" stroke=\"#000000\" points=\"287.7256,-342.0001 297.7256,-338.5 287.7256,-335.0001 287.7256,-342.0001\"/>\n",
       "</g>\n",
       "<!-- 3 -->\n",
       "<g id=\"node4\" class=\"node\">\n",
       "<title>3</title>\n",
       "<path fill=\"#f4c8a9\" stroke=\"#000000\" d=\"M542,-550C542,-550 456,-550 456,-550 450,-550 444,-544 444,-538 444,-538 444,-509 444,-509 444,-503 450,-497 456,-497 456,-497 542,-497 542,-497 548,-497 554,-503 554,-509 554,-509 554,-538 554,-538 554,-544 548,-550 542,-550\"/>\n",
       "<text text-anchor=\"middle\" x=\"499\" y=\"-534.8\" font-family=\"Helvetica,sans-Serif\" font-size=\"14.00\" fill=\"#000000\">mse = 470.335</text>\n",
       "<text text-anchor=\"middle\" x=\"499\" y=\"-519.8\" font-family=\"Helvetica,sans-Serif\" font-size=\"14.00\" fill=\"#000000\">samples = 235</text>\n",
       "<text text-anchor=\"middle\" x=\"499\" y=\"-504.8\" font-family=\"Helvetica,sans-Serif\" font-size=\"14.00\" fill=\"#000000\">value = 56.489</text>\n",
       "</g>\n",
       "<!-- 2&#45;&gt;3 -->\n",
       "<g id=\"edge3\" class=\"edge\">\n",
       "<title>2&#45;&gt;3</title>\n",
       "<path fill=\"none\" stroke=\"#000000\" d=\"M408.1963,-479.3421C416.9465,-483.5973 426.0601,-488.0292 434.9914,-492.3725\"/>\n",
       "<polygon fill=\"#000000\" stroke=\"#000000\" points=\"433.6862,-495.6297 444.2099,-496.8555 436.7475,-489.3346 433.6862,-495.6297\"/>\n",
       "</g>\n",
       "<!-- 4 -->\n",
       "<g id=\"node5\" class=\"node\">\n",
       "<title>4</title>\n",
       "<path fill=\"#f1ba93\" stroke=\"#000000\" d=\"M542,-479C542,-479 456,-479 456,-479 450,-479 444,-473 444,-467 444,-467 444,-438 444,-438 444,-432 450,-426 456,-426 456,-426 542,-426 542,-426 548,-426 554,-432 554,-438 554,-438 554,-467 554,-467 554,-473 548,-479 542,-479\"/>\n",
       "<text text-anchor=\"middle\" x=\"499\" y=\"-463.8\" font-family=\"Helvetica,sans-Serif\" font-size=\"14.00\" fill=\"#000000\">mse = 407.088</text>\n",
       "<text text-anchor=\"middle\" x=\"499\" y=\"-448.8\" font-family=\"Helvetica,sans-Serif\" font-size=\"14.00\" fill=\"#000000\">samples = 233</text>\n",
       "<text text-anchor=\"middle\" x=\"499\" y=\"-433.8\" font-family=\"Helvetica,sans-Serif\" font-size=\"14.00\" fill=\"#000000\">value = 61.266</text>\n",
       "</g>\n",
       "<!-- 2&#45;&gt;4 -->\n",
       "<g id=\"edge4\" class=\"edge\">\n",
       "<title>2&#45;&gt;4</title>\n",
       "<path fill=\"none\" stroke=\"#000000\" d=\"M408.1963,-452.5C416.4633,-452.5 425.0546,-452.5 433.5101,-452.5\"/>\n",
       "<polygon fill=\"#000000\" stroke=\"#000000\" points=\"433.7256,-456.0001 443.7256,-452.5 433.7256,-449.0001 433.7256,-456.0001\"/>\n",
       "</g>\n",
       "<!-- 6 -->\n",
       "<g id=\"node7\" class=\"node\">\n",
       "<title>6</title>\n",
       "<path fill=\"#ffffff\" stroke=\"#000000\" d=\"M542,-408C542,-408 456,-408 456,-408 450,-408 444,-402 444,-396 444,-396 444,-367 444,-367 444,-361 450,-355 456,-355 456,-355 542,-355 542,-355 548,-355 554,-361 554,-367 554,-367 554,-396 554,-396 554,-402 548,-408 542,-408\"/>\n",
       "<text text-anchor=\"middle\" x=\"499\" y=\"-392.8\" font-family=\"Helvetica,sans-Serif\" font-size=\"14.00\" fill=\"#000000\">mse = 456.775</text>\n",
       "<text text-anchor=\"middle\" x=\"499\" y=\"-377.8\" font-family=\"Helvetica,sans-Serif\" font-size=\"14.00\" fill=\"#000000\">samples = 123</text>\n",
       "<text text-anchor=\"middle\" x=\"499\" y=\"-362.8\" font-family=\"Helvetica,sans-Serif\" font-size=\"14.00\" fill=\"#000000\">value = 38.333</text>\n",
       "</g>\n",
       "<!-- 5&#45;&gt;6 -->\n",
       "<g id=\"edge6\" class=\"edge\">\n",
       "<title>5&#45;&gt;6</title>\n",
       "<path fill=\"none\" stroke=\"#000000\" d=\"M408.1963,-354.7565C416.6449,-357.2447 425.4324,-359.8328 434.0674,-362.376\"/>\n",
       "<polygon fill=\"#000000\" stroke=\"#000000\" points=\"433.1441,-365.7527 443.7256,-365.2206 435.1218,-359.0379 433.1441,-365.7527\"/>\n",
       "</g>\n",
       "<!-- 7 -->\n",
       "<g id=\"node8\" class=\"node\">\n",
       "<title>7</title>\n",
       "<path fill=\"#fbebe0\" stroke=\"#000000\" d=\"M542,-337C542,-337 456,-337 456,-337 450,-337 444,-331 444,-325 444,-325 444,-296 444,-296 444,-290 450,-284 456,-284 456,-284 542,-284 542,-284 548,-284 554,-290 554,-296 554,-296 554,-325 554,-325 554,-331 548,-337 542,-337\"/>\n",
       "<text text-anchor=\"middle\" x=\"499\" y=\"-321.8\" font-family=\"Helvetica,sans-Serif\" font-size=\"14.00\" fill=\"#000000\">mse = 389.649</text>\n",
       "<text text-anchor=\"middle\" x=\"499\" y=\"-306.8\" font-family=\"Helvetica,sans-Serif\" font-size=\"14.00\" fill=\"#000000\">samples = 133</text>\n",
       "<text text-anchor=\"middle\" x=\"499\" y=\"-291.8\" font-family=\"Helvetica,sans-Serif\" font-size=\"14.00\" fill=\"#000000\">value = 44.887</text>\n",
       "</g>\n",
       "<!-- 5&#45;&gt;7 -->\n",
       "<g id=\"edge7\" class=\"edge\">\n",
       "<title>5&#45;&gt;7</title>\n",
       "<path fill=\"none\" stroke=\"#000000\" d=\"M408.1963,-327.9144C416.5541,-326.3115 425.2434,-324.6451 433.7888,-323.0063\"/>\n",
       "<polygon fill=\"#000000\" stroke=\"#000000\" points=\"434.5638,-326.4215 443.7256,-321.1006 433.2453,-319.5468 434.5638,-326.4215\"/>\n",
       "</g>\n",
       "<!-- 9 -->\n",
       "<g id=\"node10\" class=\"node\">\n",
       "<title>9</title>\n",
       "<path fill=\"#ea985d\" stroke=\"#000000\" d=\"M396,-245.5C396,-245.5 310,-245.5 310,-245.5 304,-245.5 298,-239.5 298,-233.5 298,-233.5 298,-189.5 298,-189.5 298,-183.5 304,-177.5 310,-177.5 310,-177.5 396,-177.5 396,-177.5 402,-177.5 408,-183.5 408,-189.5 408,-189.5 408,-233.5 408,-233.5 408,-239.5 402,-245.5 396,-245.5\"/>\n",
       "<text text-anchor=\"middle\" x=\"353\" y=\"-230.3\" font-family=\"Helvetica,sans-Serif\" font-size=\"14.00\" fill=\"#000000\">educ &lt;= 15.5</text>\n",
       "<text text-anchor=\"middle\" x=\"353\" y=\"-215.3\" font-family=\"Helvetica,sans-Serif\" font-size=\"14.00\" fill=\"#000000\">mse = 345.027</text>\n",
       "<text text-anchor=\"middle\" x=\"353\" y=\"-200.3\" font-family=\"Helvetica,sans-Serif\" font-size=\"14.00\" fill=\"#000000\">samples = 340</text>\n",
       "<text text-anchor=\"middle\" x=\"353\" y=\"-185.3\" font-family=\"Helvetica,sans-Serif\" font-size=\"14.00\" fill=\"#000000\">value = 72.606</text>\n",
       "</g>\n",
       "<!-- 8&#45;&gt;9 -->\n",
       "<g id=\"edge9\" class=\"edge\">\n",
       "<title>8&#45;&gt;9</title>\n",
       "<path fill=\"none\" stroke=\"#000000\" d=\"M262.1963,-211.5C270.4633,-211.5 279.0546,-211.5 287.5101,-211.5\"/>\n",
       "<polygon fill=\"#000000\" stroke=\"#000000\" points=\"287.7256,-215.0001 297.7256,-211.5 287.7256,-208.0001 287.7256,-215.0001\"/>\n",
       "</g>\n",
       "<!-- 12 -->\n",
       "<g id=\"node13\" class=\"node\">\n",
       "<title>12</title>\n",
       "<path fill=\"#e68743\" stroke=\"#000000\" d=\"M396,-131.5C396,-131.5 310,-131.5 310,-131.5 304,-131.5 298,-125.5 298,-119.5 298,-119.5 298,-75.5 298,-75.5 298,-69.5 304,-63.5 310,-63.5 310,-63.5 396,-63.5 396,-63.5 402,-63.5 408,-69.5 408,-75.5 408,-75.5 408,-119.5 408,-119.5 408,-125.5 402,-131.5 396,-131.5\"/>\n",
       "<text text-anchor=\"middle\" x=\"353\" y=\"-116.3\" font-family=\"Helvetica,sans-Serif\" font-size=\"14.00\" fill=\"#000000\">female &lt;= 0.5</text>\n",
       "<text text-anchor=\"middle\" x=\"353\" y=\"-101.3\" font-family=\"Helvetica,sans-Serif\" font-size=\"14.00\" fill=\"#000000\">mse = 330.649</text>\n",
       "<text text-anchor=\"middle\" x=\"353\" y=\"-86.3\" font-family=\"Helvetica,sans-Serif\" font-size=\"14.00\" fill=\"#000000\">samples = 200</text>\n",
       "<text text-anchor=\"middle\" x=\"353\" y=\"-71.3\" font-family=\"Helvetica,sans-Serif\" font-size=\"14.00\" fill=\"#000000\">value = 78.275</text>\n",
       "</g>\n",
       "<!-- 8&#45;&gt;12 -->\n",
       "<g id=\"edge12\" class=\"edge\">\n",
       "<title>8&#45;&gt;12</title>\n",
       "<path fill=\"none\" stroke=\"#000000\" d=\"M250.8048,-177.2962C266.685,-164.8966 284.7721,-150.7738 301.2709,-137.8912\"/>\n",
       "<polygon fill=\"#000000\" stroke=\"#000000\" points=\"303.4982,-140.5927 309.2261,-131.6796 299.1902,-135.0753 303.4982,-140.5927\"/>\n",
       "</g>\n",
       "<!-- 10 -->\n",
       "<g id=\"node11\" class=\"node\">\n",
       "<title>10</title>\n",
       "<path fill=\"#eb9d64\" stroke=\"#000000\" d=\"M542,-266C542,-266 456,-266 456,-266 450,-266 444,-260 444,-254 444,-254 444,-225 444,-225 444,-219 450,-213 456,-213 456,-213 542,-213 542,-213 548,-213 554,-219 554,-225 554,-225 554,-254 554,-254 554,-260 548,-266 542,-266\"/>\n",
       "<text text-anchor=\"middle\" x=\"499\" y=\"-250.8\" font-family=\"Helvetica,sans-Serif\" font-size=\"14.00\" fill=\"#000000\">mse = 369.301</text>\n",
       "<text text-anchor=\"middle\" x=\"499\" y=\"-235.8\" font-family=\"Helvetica,sans-Serif\" font-size=\"14.00\" fill=\"#000000\">samples = 247</text>\n",
       "<text text-anchor=\"middle\" x=\"499\" y=\"-220.8\" font-family=\"Helvetica,sans-Serif\" font-size=\"14.00\" fill=\"#000000\">value = 71.105</text>\n",
       "</g>\n",
       "<!-- 9&#45;&gt;10 -->\n",
       "<g id=\"edge10\" class=\"edge\">\n",
       "<title>9&#45;&gt;10</title>\n",
       "<path fill=\"none\" stroke=\"#000000\" d=\"M408.1963,-222.0856C416.5541,-223.6885 425.2434,-225.3549 433.7888,-226.9937\"/>\n",
       "<polygon fill=\"#000000\" stroke=\"#000000\" points=\"433.2453,-230.4532 443.7256,-228.8994 434.5638,-223.5785 433.2453,-230.4532\"/>\n",
       "</g>\n",
       "<!-- 11 -->\n",
       "<g id=\"node12\" class=\"node\">\n",
       "<title>11</title>\n",
       "<path fill=\"#e78c4a\" stroke=\"#000000\" d=\"M542,-195C542,-195 456,-195 456,-195 450,-195 444,-189 444,-183 444,-183 444,-154 444,-154 444,-148 450,-142 456,-142 456,-142 542,-142 542,-142 548,-142 554,-148 554,-154 554,-154 554,-183 554,-183 554,-189 548,-195 542,-195\"/>\n",
       "<text text-anchor=\"middle\" x=\"499\" y=\"-179.8\" font-family=\"Helvetica,sans-Serif\" font-size=\"14.00\" fill=\"#000000\">mse = 258.693</text>\n",
       "<text text-anchor=\"middle\" x=\"499\" y=\"-164.8\" font-family=\"Helvetica,sans-Serif\" font-size=\"14.00\" fill=\"#000000\">samples = 93</text>\n",
       "<text text-anchor=\"middle\" x=\"499\" y=\"-149.8\" font-family=\"Helvetica,sans-Serif\" font-size=\"14.00\" fill=\"#000000\">value = 76.591</text>\n",
       "</g>\n",
       "<!-- 9&#45;&gt;11 -->\n",
       "<g id=\"edge11\" class=\"edge\">\n",
       "<title>9&#45;&gt;11</title>\n",
       "<path fill=\"none\" stroke=\"#000000\" d=\"M408.1963,-195.2435C416.6449,-192.7553 425.4324,-190.1672 434.0674,-187.624\"/>\n",
       "<polygon fill=\"#000000\" stroke=\"#000000\" points=\"435.1218,-190.9621 443.7256,-184.7794 433.1441,-184.2473 435.1218,-190.9621\"/>\n",
       "</g>\n",
       "<!-- 13 -->\n",
       "<g id=\"node14\" class=\"node\">\n",
       "<title>13</title>\n",
       "<path fill=\"#e89051\" stroke=\"#000000\" d=\"M542,-124C542,-124 456,-124 456,-124 450,-124 444,-118 444,-112 444,-112 444,-83 444,-83 444,-77 450,-71 456,-71 456,-71 542,-71 542,-71 548,-71 554,-77 554,-83 554,-83 554,-112 554,-112 554,-118 548,-124 542,-124\"/>\n",
       "<text text-anchor=\"middle\" x=\"499\" y=\"-108.8\" font-family=\"Helvetica,sans-Serif\" font-size=\"14.00\" fill=\"#000000\">mse = 399.015</text>\n",
       "<text text-anchor=\"middle\" x=\"499\" y=\"-93.8\" font-family=\"Helvetica,sans-Serif\" font-size=\"14.00\" fill=\"#000000\">samples = 79</text>\n",
       "<text text-anchor=\"middle\" x=\"499\" y=\"-78.8\" font-family=\"Helvetica,sans-Serif\" font-size=\"14.00\" fill=\"#000000\">value = 75.19</text>\n",
       "</g>\n",
       "<!-- 12&#45;&gt;13 -->\n",
       "<g id=\"edge13\" class=\"edge\">\n",
       "<title>12&#45;&gt;13</title>\n",
       "<path fill=\"none\" stroke=\"#000000\" d=\"M408.1963,-97.5C416.4633,-97.5 425.0546,-97.5 433.5101,-97.5\"/>\n",
       "<polygon fill=\"#000000\" stroke=\"#000000\" points=\"433.7256,-101.0001 443.7256,-97.5 433.7256,-94.0001 433.7256,-101.0001\"/>\n",
       "</g>\n",
       "<!-- 14 -->\n",
       "<g id=\"node15\" class=\"node\">\n",
       "<title>14</title>\n",
       "<path fill=\"#e58139\" stroke=\"#000000\" d=\"M542,-53C542,-53 456,-53 456,-53 450,-53 444,-47 444,-41 444,-41 444,-12 444,-12 444,-6 450,0 456,0 456,0 542,0 542,0 548,0 554,-6 554,-12 554,-12 554,-41 554,-41 554,-47 548,-53 542,-53\"/>\n",
       "<text text-anchor=\"middle\" x=\"499\" y=\"-37.8\" font-family=\"Helvetica,sans-Serif\" font-size=\"14.00\" fill=\"#000000\">mse = 275.743</text>\n",
       "<text text-anchor=\"middle\" x=\"499\" y=\"-22.8\" font-family=\"Helvetica,sans-Serif\" font-size=\"14.00\" fill=\"#000000\">samples = 121</text>\n",
       "<text text-anchor=\"middle\" x=\"499\" y=\"-7.8\" font-family=\"Helvetica,sans-Serif\" font-size=\"14.00\" fill=\"#000000\">value = 80.289</text>\n",
       "</g>\n",
       "<!-- 12&#45;&gt;14 -->\n",
       "<g id=\"edge14\" class=\"edge\">\n",
       "<title>12&#45;&gt;14</title>\n",
       "<path fill=\"none\" stroke=\"#000000\" d=\"M408.1963,-70.6579C416.9465,-66.4027 426.0601,-61.9708 434.9914,-57.6275\"/>\n",
       "<polygon fill=\"#000000\" stroke=\"#000000\" points=\"436.7475,-60.6654 444.2099,-53.1445 433.6862,-54.3703 436.7475,-60.6654\"/>\n",
       "</g>\n",
       "</g>\n",
       "</svg>\n"
      ],
      "text/plain": [
       "<graphviz.files.Source at 0x1a1f3f45d0>"
      ]
     },
     "execution_count": 106,
     "metadata": {},
     "output_type": "execute_result"
    }
   ],
   "source": [
    "# Export the visualization and display the graph\n",
    "biden_tree_viz = export_graphviz(\n",
    "    biden_tree,\n",
    "    out_file=None,\n",
    "    feature_names=['female', 'age', 'educ', 'dem', 'rep'],\n",
    "    rounded=True,\n",
    "    filled=True,\n",
    "    rotate=True\n",
    ")\n",
    "\n",
    "graph = graphviz.Source(biden_tree_viz)\n",
    "graph.render('biden_tree_viz')\n",
    "graph"
   ]
  },
  {
   "cell_type": "markdown",
   "metadata": {},
   "source": [
    "### Interpretation\n",
    "\n",
    "The decision tree gives the outcome of stratifying the predictor space and fitting the data with the minimized mean squared error, given the constraints of maximum depth and minimum number of samples on each leaf. Political identity is the most important factor that related to one's attitude towards Biden. For those who are not Democrats, whether or not they are Republicans, being a female is related to higher feeling thermometer, which is intuitively consistent with people's attitutes to the photos from his youth. Among Democrats, Biden enjoys a overall higher feeling thermometer - of course, Biden is a Democrats himself - and is especially popular among Democrats who are over 55 years old. For Democrats who are over 55 years old, female people like Biden more than those who are not female, and for democrats who are below 55 years old, people with more than 16 years of formal education responded with higher feeling thermometer. "
   ]
  },
  {
   "cell_type": "code",
   "execution_count": 107,
   "metadata": {},
   "outputs": [
    {
     "name": "stdout",
     "output_type": "stream",
     "text": [
      "test MSE:  396.1937146321307\n"
     ]
    }
   ],
   "source": [
    "# Calculate MSE on the testing set\n",
    "y_pred = biden_tree.predict(X_test)\n",
    "MSE = mean_squared_error(y_test, y_pred)\n",
    "print('test MSE: ', MSE)"
   ]
  },
  {
   "cell_type": "markdown",
   "metadata": {},
   "source": [
    "## Problem 1.b"
   ]
  },
  {
   "cell_type": "code",
   "execution_count": 111,
   "metadata": {},
   "outputs": [
    {
     "name": "stdout",
     "output_type": "stream",
     "text": [
      "The model is trained on the 70% training set. \n",
      "\n",
      "RandBestEstimator1= DecisionTreeRegressor(criterion='mse', max_depth=3, max_features=None,\n",
      "                      max_leaf_nodes=None, min_impurity_decrease=0.0,\n",
      "                      min_impurity_split=None, min_samples_leaf=2,\n",
      "                      min_samples_split=9, min_weight_fraction_leaf=0.0,\n",
      "                      presort=False, random_state=None, splitter='best')\n",
      "RandBestParams1= {'max_depth': 3, 'min_samples_leaf': 2, 'min_samples_split': 9}\n",
      "RandBestScore1= 404.7488359884144\n"
     ]
    }
   ],
   "source": [
    "# The following modules have already been imported. \n",
    "# from sklearn.model_selection import RandomizedSearchCV, GridSearchCV\n",
    "# from scipy.stats import randint as sp_randint\n",
    "# from scipy.stats import uniform as sp_uniform\n",
    "\n",
    "# specify parameters and distributions to sample from\n",
    "param_dist1 = {'max_depth': [3, 10],    # ??? This will only try 3 and 10, wonder if a more reasonably specification could be sp_randint(3, 10) ???\n",
    "               'min_samples_split': sp_randint(2, 20),\n",
    "               'min_samples_leaf': sp_randint(2, 20)}\n",
    "\n",
    "biden_tune = DecisionTreeRegressor()\n",
    "\n",
    "# Run randomized hyperparameter search\n",
    "random_search1 = \\\n",
    "    RandomizedSearchCV(biden_tune, param_distributions=param_dist1,\n",
    "                       n_iter=100, n_jobs=-1, cv=5, random_state=25,\n",
    "                       scoring='neg_mean_squared_error')\n",
    "\n",
    "random_search1.fit(X_train, y_train)\n",
    "\n",
    "# Print the result\n",
    "print('The model is trained on the 70% training set. \\n')\n",
    "print('RandBestEstimator1=', random_search1.best_estimator_)\n",
    "print('RandBestParams1=', random_search1.best_params_)\n",
    "print('RandBestScore1=', -random_search1.best_score_)\n",
    "\n",
    "\n",
    "\n",
    "# Uncomment to use GridSearchCV to run grid search hyperparameter search\n",
    "# ======================================================================\n",
    "\n",
    "# param_grid1 = {'max_depth': [2, 3, 4, 5, 6, 7, 8, 9, 10, 11, 12, 13],\n",
    "#                'min_samples_split': [2, 3, 4, 5, 6, 7, 8, 9, 10, 11, 12, 13, 14, 15],\n",
    "#                'min_samples_leaf': [1, 2, 3, 4, 5, 6, 7, 8, 9, 10, 11, 12, 13, 14, 15]}\n",
    "\n",
    "# grid_search1 = \\\n",
    "#     GridSearchCV(hittree3, param_grid=param_grid1,\n",
    "#                        n_jobs=-1, cv=5,\n",
    "#                        scoring='neg_mean_squared_error')\n",
    "\n",
    "# grid_search1.fit(X, y)\n",
    "# print('GridBestEstimator1=', grid_search1.best_estimator_)\n",
    "# print('GridBestParams1=', grid_search1.best_params_)\n",
    "# print('GridBestScore1=', -grid_search1.best_score_)"
   ]
  },
  {
   "cell_type": "markdown",
   "metadata": {},
   "source": [
    "## Problem 1.c"
   ]
  },
  {
   "cell_type": "code",
   "execution_count": 112,
   "metadata": {},
   "outputs": [
    {
     "name": "stderr",
     "output_type": "stream",
     "text": [
      "/Users/lucient/anaconda3/lib/python3.7/site-packages/sklearn/model_selection/_search.py:814: DeprecationWarning: The default of the `iid` parameter will change from True to False in version 0.22 and will be removed in 0.24. This will change numeric results when test-set sizes are unequal.\n",
      "  DeprecationWarning)\n"
     ]
    },
    {
     "name": "stdout",
     "output_type": "stream",
     "text": [
      "The model is trained on the 70% training set. \n",
      "\n",
      "Best estimator =  RandomForestRegressor(bootstrap=True, criterion='mse', max_depth=10,\n",
      "                      max_features=2, max_leaf_nodes=None,\n",
      "                      min_impurity_decrease=0.0, min_impurity_split=None,\n",
      "                      min_samples_leaf=19, min_samples_split=11,\n",
      "                      min_weight_fraction_leaf=0.0, n_estimators=200,\n",
      "                      n_jobs=None, oob_score=False, random_state=25, verbose=0,\n",
      "                      warm_start=False)\n",
      "Best tuning parameters =  {'max_depth': 10, 'max_features': 2, 'min_samples_leaf': 19, 'min_samples_split': 11, 'n_estimators': 200}\n",
      "MSE of optimal results = 397.6842454966743\n"
     ]
    }
   ],
   "source": [
    "# specify parameters and distributions to sample from\n",
    "param_dist2 = {'n_estimators': [10, 200],\n",
    "               'max_depth': [3, 10],\n",
    "               'min_samples_split': sp_randint(2, 20),\n",
    "               'min_samples_leaf': sp_randint(2, 20),\n",
    "               'max_features': sp_randint(1, 5)}\n",
    "\n",
    "biden_randforest = RandomForestRegressor(bootstrap=True, random_state=25)\n",
    "\n",
    "# Run randomized hyperparameter search\n",
    "random_search2 = \\\n",
    "    RandomizedSearchCV(biden_randforest, param_distributions=param_dist2, \n",
    "                       n_iter=100, n_jobs=-1, cv=5, random_state=25, \n",
    "                       scoring='neg_mean_squared_error')\n",
    "random_search2.fit(X_train, y_train)\n",
    "\n",
    "# Print the result\n",
    "print('The model is trained on the 70% training set. \\n')\n",
    "print('Best estimator = ', random_search2.best_estimator_)\n",
    "print('Best tuning parameters = ', random_search2.best_params_)\n",
    "print('MSE of optimal results =', -random_search2.best_score_)"
   ]
  },
  {
   "cell_type": "markdown",
   "metadata": {},
   "source": [
    "# Problem 2"
   ]
  },
  {
   "cell_type": "markdown",
   "metadata": {},
   "source": [
    "## Problem 2.a"
   ]
  },
  {
   "cell_type": "code",
   "execution_count": 149,
   "metadata": {},
   "outputs": [
    {
     "data": {
      "text/html": [
       "<div>\n",
       "<style scoped>\n",
       "    .dataframe tbody tr th:only-of-type {\n",
       "        vertical-align: middle;\n",
       "    }\n",
       "\n",
       "    .dataframe tbody tr th {\n",
       "        vertical-align: top;\n",
       "    }\n",
       "\n",
       "    .dataframe thead th {\n",
       "        text-align: right;\n",
       "    }\n",
       "</style>\n",
       "<table border=\"1\" class=\"dataframe\">\n",
       "  <thead>\n",
       "    <tr style=\"text-align: right;\">\n",
       "      <th></th>\n",
       "      <th>mpg</th>\n",
       "      <th>cylinders</th>\n",
       "      <th>displacement</th>\n",
       "      <th>horsepower</th>\n",
       "      <th>weight</th>\n",
       "      <th>acceleration</th>\n",
       "      <th>year</th>\n",
       "      <th>origin</th>\n",
       "      <th>name</th>\n",
       "      <th>mpg_high</th>\n",
       "    </tr>\n",
       "  </thead>\n",
       "  <tbody>\n",
       "    <tr>\n",
       "      <th>0</th>\n",
       "      <td>18.0</td>\n",
       "      <td>8</td>\n",
       "      <td>307.0</td>\n",
       "      <td>130.0</td>\n",
       "      <td>3504</td>\n",
       "      <td>12.0</td>\n",
       "      <td>70</td>\n",
       "      <td>1</td>\n",
       "      <td>chevrolet chevelle malibu</td>\n",
       "      <td>0</td>\n",
       "    </tr>\n",
       "    <tr>\n",
       "      <th>1</th>\n",
       "      <td>15.0</td>\n",
       "      <td>8</td>\n",
       "      <td>350.0</td>\n",
       "      <td>165.0</td>\n",
       "      <td>3693</td>\n",
       "      <td>11.5</td>\n",
       "      <td>70</td>\n",
       "      <td>1</td>\n",
       "      <td>buick skylark 320</td>\n",
       "      <td>0</td>\n",
       "    </tr>\n",
       "    <tr>\n",
       "      <th>2</th>\n",
       "      <td>18.0</td>\n",
       "      <td>8</td>\n",
       "      <td>318.0</td>\n",
       "      <td>150.0</td>\n",
       "      <td>3436</td>\n",
       "      <td>11.0</td>\n",
       "      <td>70</td>\n",
       "      <td>1</td>\n",
       "      <td>plymouth satellite</td>\n",
       "      <td>0</td>\n",
       "    </tr>\n",
       "    <tr>\n",
       "      <th>3</th>\n",
       "      <td>16.0</td>\n",
       "      <td>8</td>\n",
       "      <td>304.0</td>\n",
       "      <td>150.0</td>\n",
       "      <td>3433</td>\n",
       "      <td>12.0</td>\n",
       "      <td>70</td>\n",
       "      <td>1</td>\n",
       "      <td>amc rebel sst</td>\n",
       "      <td>0</td>\n",
       "    </tr>\n",
       "    <tr>\n",
       "      <th>4</th>\n",
       "      <td>17.0</td>\n",
       "      <td>8</td>\n",
       "      <td>302.0</td>\n",
       "      <td>140.0</td>\n",
       "      <td>3449</td>\n",
       "      <td>10.5</td>\n",
       "      <td>70</td>\n",
       "      <td>1</td>\n",
       "      <td>ford torino</td>\n",
       "      <td>0</td>\n",
       "    </tr>\n",
       "  </tbody>\n",
       "</table>\n",
       "</div>"
      ],
      "text/plain": [
       "    mpg  cylinders  displacement  horsepower  weight  acceleration  year  \\\n",
       "0  18.0          8         307.0       130.0    3504          12.0    70   \n",
       "1  15.0          8         350.0       165.0    3693          11.5    70   \n",
       "2  18.0          8         318.0       150.0    3436          11.0    70   \n",
       "3  16.0          8         304.0       150.0    3433          12.0    70   \n",
       "4  17.0          8         302.0       140.0    3449          10.5    70   \n",
       "\n",
       "   origin                       name  mpg_high  \n",
       "0       1  chevrolet chevelle malibu         0  \n",
       "1       1          buick skylark 320         0  \n",
       "2       1         plymouth satellite         0  \n",
       "3       1              amc rebel sst         0  \n",
       "4       1                ford torino         0  "
      ]
     },
     "execution_count": 149,
     "metadata": {},
     "output_type": "execute_result"
    }
   ],
   "source": [
    "# Load the data\n",
    "auto_df = pd.read_csv(\"Auto.csv\", na_values='?')\n",
    "auto_df['mpg_high'] = np.where(auto_df['mpg'] >= np.median(auto_df['mpg']), 1, 0)\n",
    "auto_df.dropna(inplace=True)\n",
    "auto_df.head()"
   ]
  },
  {
   "cell_type": "code",
   "execution_count": 150,
   "metadata": {
    "scrolled": true
   },
   "outputs": [
    {
     "data": {
      "text/html": [
       "<div>\n",
       "<style scoped>\n",
       "    .dataframe tbody tr th:only-of-type {\n",
       "        vertical-align: middle;\n",
       "    }\n",
       "\n",
       "    .dataframe tbody tr th {\n",
       "        vertical-align: top;\n",
       "    }\n",
       "\n",
       "    .dataframe thead th {\n",
       "        text-align: right;\n",
       "    }\n",
       "</style>\n",
       "<table border=\"1\" class=\"dataframe\">\n",
       "  <thead>\n",
       "    <tr style=\"text-align: right;\">\n",
       "      <th></th>\n",
       "      <th>mpg</th>\n",
       "      <th>cylinders</th>\n",
       "      <th>displacement</th>\n",
       "      <th>horsepower</th>\n",
       "      <th>weight</th>\n",
       "      <th>acceleration</th>\n",
       "      <th>year</th>\n",
       "      <th>name</th>\n",
       "      <th>mpg_high</th>\n",
       "      <th>origin_1</th>\n",
       "      <th>origin_2</th>\n",
       "      <th>origin_3</th>\n",
       "    </tr>\n",
       "  </thead>\n",
       "  <tbody>\n",
       "    <tr>\n",
       "      <th>0</th>\n",
       "      <td>18.0</td>\n",
       "      <td>8</td>\n",
       "      <td>307.0</td>\n",
       "      <td>130.0</td>\n",
       "      <td>3504</td>\n",
       "      <td>12.0</td>\n",
       "      <td>70</td>\n",
       "      <td>chevrolet chevelle malibu</td>\n",
       "      <td>0</td>\n",
       "      <td>1</td>\n",
       "      <td>0</td>\n",
       "      <td>0</td>\n",
       "    </tr>\n",
       "    <tr>\n",
       "      <th>1</th>\n",
       "      <td>15.0</td>\n",
       "      <td>8</td>\n",
       "      <td>350.0</td>\n",
       "      <td>165.0</td>\n",
       "      <td>3693</td>\n",
       "      <td>11.5</td>\n",
       "      <td>70</td>\n",
       "      <td>buick skylark 320</td>\n",
       "      <td>0</td>\n",
       "      <td>1</td>\n",
       "      <td>0</td>\n",
       "      <td>0</td>\n",
       "    </tr>\n",
       "    <tr>\n",
       "      <th>2</th>\n",
       "      <td>18.0</td>\n",
       "      <td>8</td>\n",
       "      <td>318.0</td>\n",
       "      <td>150.0</td>\n",
       "      <td>3436</td>\n",
       "      <td>11.0</td>\n",
       "      <td>70</td>\n",
       "      <td>plymouth satellite</td>\n",
       "      <td>0</td>\n",
       "      <td>1</td>\n",
       "      <td>0</td>\n",
       "      <td>0</td>\n",
       "    </tr>\n",
       "    <tr>\n",
       "      <th>3</th>\n",
       "      <td>16.0</td>\n",
       "      <td>8</td>\n",
       "      <td>304.0</td>\n",
       "      <td>150.0</td>\n",
       "      <td>3433</td>\n",
       "      <td>12.0</td>\n",
       "      <td>70</td>\n",
       "      <td>amc rebel sst</td>\n",
       "      <td>0</td>\n",
       "      <td>1</td>\n",
       "      <td>0</td>\n",
       "      <td>0</td>\n",
       "    </tr>\n",
       "    <tr>\n",
       "      <th>4</th>\n",
       "      <td>17.0</td>\n",
       "      <td>8</td>\n",
       "      <td>302.0</td>\n",
       "      <td>140.0</td>\n",
       "      <td>3449</td>\n",
       "      <td>10.5</td>\n",
       "      <td>70</td>\n",
       "      <td>ford torino</td>\n",
       "      <td>0</td>\n",
       "      <td>1</td>\n",
       "      <td>0</td>\n",
       "      <td>0</td>\n",
       "    </tr>\n",
       "  </tbody>\n",
       "</table>\n",
       "</div>"
      ],
      "text/plain": [
       "    mpg  cylinders  displacement  horsepower  weight  acceleration  year  \\\n",
       "0  18.0          8         307.0       130.0    3504          12.0    70   \n",
       "1  15.0          8         350.0       165.0    3693          11.5    70   \n",
       "2  18.0          8         318.0       150.0    3436          11.0    70   \n",
       "3  16.0          8         304.0       150.0    3433          12.0    70   \n",
       "4  17.0          8         302.0       140.0    3449          10.5    70   \n",
       "\n",
       "                        name  mpg_high  origin_1  origin_2  origin_3  \n",
       "0  chevrolet chevelle malibu         0         1         0         0  \n",
       "1          buick skylark 320         0         1         0         0  \n",
       "2         plymouth satellite         0         1         0         0  \n",
       "3              amc rebel sst         0         1         0         0  \n",
       "4                ford torino         0         1         0         0  "
      ]
     },
     "execution_count": 150,
     "metadata": {},
     "output_type": "execute_result"
    }
   ],
   "source": [
    "auto_df = pd.get_dummies(auto_df, columns=['origin'])\n",
    "auto_df.head()"
   ]
  },
  {
   "cell_type": "code",
   "execution_count": 233,
   "metadata": {},
   "outputs": [],
   "source": [
    "y = auto_df['mpg_high']\n",
    "X = auto_df[['cylinders', 'displacement', 'horsepower', 'weight', 'acceleration', 'year', 'origin_1', 'origin_2']]"
   ]
  },
  {
   "cell_type": "code",
   "execution_count": 154,
   "metadata": {},
   "outputs": [
    {
     "data": {
      "text/plain": [
       "LogisticRegression(C=1.0, class_weight=None, dual=False, fit_intercept=True,\n",
       "                   intercept_scaling=1, l1_ratio=None, max_iter=100,\n",
       "                   multi_class='auto', n_jobs=None, penalty='l2',\n",
       "                   random_state=None, solver='liblinear', tol=0.0001, verbose=0,\n",
       "                   warm_start=False)"
      ]
     },
     "execution_count": 154,
     "metadata": {},
     "output_type": "execute_result"
    }
   ],
   "source": [
    "# Run a Logistic regression\n",
    "auto_logit = LogisticRegression(solver='liblinear', multi_class='auto')\n",
    "auto_logit.fit(X, y)"
   ]
  },
  {
   "cell_type": "code",
   "execution_count": 157,
   "metadata": {},
   "outputs": [
    {
     "data": {
      "text/html": [
       "<div>\n",
       "<style scoped>\n",
       "    .dataframe tbody tr th:only-of-type {\n",
       "        vertical-align: middle;\n",
       "    }\n",
       "\n",
       "    .dataframe tbody tr th {\n",
       "        vertical-align: top;\n",
       "    }\n",
       "\n",
       "    .dataframe thead th {\n",
       "        text-align: right;\n",
       "    }\n",
       "</style>\n",
       "<table border=\"1\" class=\"dataframe\">\n",
       "  <thead>\n",
       "    <tr style=\"text-align: right;\">\n",
       "      <th></th>\n",
       "      <th>mpg_high</th>\n",
       "    </tr>\n",
       "  </thead>\n",
       "  <tbody>\n",
       "    <tr>\n",
       "      <th>const</th>\n",
       "      <td>-0.071123</td>\n",
       "    </tr>\n",
       "    <tr>\n",
       "      <th>cylinders</th>\n",
       "      <td>-0.093252</td>\n",
       "    </tr>\n",
       "    <tr>\n",
       "      <th>displacement</th>\n",
       "      <td>-0.001307</td>\n",
       "    </tr>\n",
       "    <tr>\n",
       "      <th>horsepower</th>\n",
       "      <td>-0.070722</td>\n",
       "    </tr>\n",
       "    <tr>\n",
       "      <th>weight</th>\n",
       "      <td>-0.003321</td>\n",
       "    </tr>\n",
       "    <tr>\n",
       "      <th>acceleration</th>\n",
       "      <td>-0.188672</td>\n",
       "    </tr>\n",
       "    <tr>\n",
       "      <th>year</th>\n",
       "      <td>0.263281</td>\n",
       "    </tr>\n",
       "    <tr>\n",
       "      <th>origin_1</th>\n",
       "      <td>-0.336594</td>\n",
       "    </tr>\n",
       "    <tr>\n",
       "      <th>origin_2</th>\n",
       "      <td>0.266019</td>\n",
       "    </tr>\n",
       "  </tbody>\n",
       "</table>\n",
       "</div>"
      ],
      "text/plain": [
       "              mpg_high\n",
       "const        -0.071123\n",
       "cylinders    -0.093252\n",
       "displacement -0.001307\n",
       "horsepower   -0.070722\n",
       "weight       -0.003321\n",
       "acceleration -0.188672\n",
       "year          0.263281\n",
       "origin_1     -0.336594\n",
       "origin_2      0.266019"
      ]
     },
     "execution_count": 157,
     "metadata": {},
     "output_type": "execute_result"
    }
   ],
   "source": [
    "result = {'mpg_high': np.append(auto_logit.intercept_[0], auto_logit.coef_[0])} \n",
    "beta_names = ['const', 'cylinders', 'displacement', 'horsepower', 'weight', 'acceleration', 'year', 'origin_1', 'origin_2']\n",
    "pd.DataFrame(result, index=beta_names)"
   ]
  },
  {
   "cell_type": "code",
   "execution_count": 168,
   "metadata": {},
   "outputs": [
    {
     "name": "stdout",
     "output_type": "stream",
     "text": [
      "test estimate MSE_k-fold= 0.09693877551020408\n",
      "average error rate for mpg_high=0: 0.11364706285146922\n",
      "average error rate for mpg_high=1: 0.07941477339674582\n"
     ]
    }
   ],
   "source": [
    "Xvars = X.values\n",
    "yvars = y.values\n",
    "k = 4\n",
    "kf = KFold(n_splits=4, shuffle=True, random_state=25)\n",
    "kf.get_n_splits(Xvars)\n",
    "\n",
    "MSE_vec_kf = np.zeros(k)\n",
    "category_error_0 = np.zeros(k)\n",
    "category_error_1 = np.zeros(k)\n",
    "\n",
    "k_ind = 0\n",
    "for train_index, test_index in kf.split(Xvars):\n",
    "    X_train, X_test = Xvars[train_index], Xvars[test_index]\n",
    "    y_train, y_test = yvars[train_index], yvars[test_index]\n",
    "    LogReg = LogisticRegression(solver='liblinear', multi_class='auto')\n",
    "    LogReg.fit(X_train, y_train)\n",
    "    y_pred = LogReg.predict(X_test)\n",
    "    MSE_vec_kf[k_ind] = ((y_test - y_pred) ** 2).mean()\n",
    "    \n",
    "    category_0 = y_test == 0\n",
    "    category_1 = y_test == 1\n",
    "    \n",
    "    category_error_0[k_ind] = sum((y_test != y_pred) * category_0) / sum(category_0)\n",
    "    category_error_1[k_ind] = sum((y_test != y_pred) * category_1) / sum(category_1)    \n",
    "    \n",
    "    k_ind += 1\n",
    "\n",
    "MSE_kf = MSE_vec_kf.mean()\n",
    "print('test estimate MSE_k-fold=', MSE_kf)\n",
    "print(\"average error rate for mpg_high=0:\", category_error_0.mean())\n",
    "print(\"average error rate for mpg_high=1:\", category_error_1.mean())"
   ]
  },
  {
   "cell_type": "markdown",
   "metadata": {},
   "source": [
    "## Problem 2.b"
   ]
  },
  {
   "cell_type": "code",
   "execution_count": 207,
   "metadata": {},
   "outputs": [
    {
     "name": "stderr",
     "output_type": "stream",
     "text": [
      "/Users/lucient/anaconda3/lib/python3.7/site-packages/sklearn/ensemble/forest.py:245: FutureWarning: The default value of n_estimators will change from 10 in version 0.20 to 100 in 0.22.\n",
      "  \"10 in version 0.20 to 100 in 0.22.\", FutureWarning)\n"
     ]
    },
    {
     "data": {
      "text/plain": [
       "RandomForestClassifier(bootstrap=True, class_weight=None, criterion='gini',\n",
       "                       max_depth=None, max_features='auto', max_leaf_nodes=None,\n",
       "                       min_impurity_decrease=0.0, min_impurity_split=None,\n",
       "                       min_samples_leaf=1, min_samples_split=2,\n",
       "                       min_weight_fraction_leaf=0.0, n_estimators=10,\n",
       "                       n_jobs=None, oob_score=False, random_state=25, verbose=0,\n",
       "                       warm_start=False)"
      ]
     },
     "execution_count": 207,
     "metadata": {},
     "output_type": "execute_result"
    }
   ],
   "source": [
    "# Fit the data using a Random Forest Classifier\n",
    "mpg_forest = RandomForestClassifier(bootstrap=True, random_state=25)\n",
    "mpg_forest.fit(Xvars, yvars)"
   ]
  },
  {
   "cell_type": "code",
   "execution_count": 208,
   "metadata": {},
   "outputs": [
    {
     "name": "stdout",
     "output_type": "stream",
     "text": [
      "Best estimator =  RandomForestClassifier(bootstrap=True, class_weight=None, criterion='gini',\n",
      "                       max_depth=8, max_features=3, max_leaf_nodes=None,\n",
      "                       min_impurity_decrease=0.0, min_impurity_split=None,\n",
      "                       min_samples_leaf=15, min_samples_split=2,\n",
      "                       min_weight_fraction_leaf=0.0, n_estimators=10,\n",
      "                       n_jobs=None, oob_score=False, random_state=25, verbose=0,\n",
      "                       warm_start=False)\n",
      "Best tuning parameters =  {'max_depth': 8, 'max_features': 3, 'min_samples_leaf': 15, 'min_samples_split': 2, 'n_estimators': 10}\n",
      "MSE of optimal results = 0.08928571428571429\n"
     ]
    }
   ],
   "source": [
    "# specify parameters and distributions to sample from\n",
    "param_dist3 = {'n_estimators':[10,200],\n",
    "               'max_depth': [3,8],\n",
    "               'min_samples_split': sp_randint(2, 20),\n",
    "               'min_samples_leaf': sp_randint(2, 20),\n",
    "               'max_features': sp_randint(1,8)}\n",
    "\n",
    "mpg_forest = RandomForestClassifier(bootstrap=True, random_state=25)\n",
    "\n",
    "# Run randomized hyperparameter search\n",
    "random_search3 = RandomizedSearchCV(mpg_forest, param_distributions=param_dist3,\n",
    "                                    n_iter=100, n_jobs=-1, cv=4, random_state=25,\n",
    "                                    scoring='neg_mean_squared_error')\n",
    "random_search3.fit(X, y)\n",
    "\n",
    "# Print the result\n",
    "print('Best estimator = ', random_search3.best_estimator_)\n",
    "print('Best tuning parameters = ', random_search3.best_params_)\n",
    "print('MSE of optimal results =', -random_search3.best_score_)"
   ]
  },
  {
   "cell_type": "markdown",
   "metadata": {},
   "source": [
    "## Problem 2.c"
   ]
  },
  {
   "cell_type": "code",
   "execution_count": 227,
   "metadata": {},
   "outputs": [
    {
     "name": "stderr",
     "output_type": "stream",
     "text": [
      "/Users/lucient/anaconda3/lib/python3.7/site-packages/sklearn/svm/base.py:193: FutureWarning: The default value of gamma will change from 'auto' to 'scale' in version 0.22 to account better for unscaled features. Set gamma explicitly to 'auto' or 'scale' to avoid this warning.\n",
      "  \"avoid this warning.\", FutureWarning)\n"
     ]
    },
    {
     "data": {
      "text/plain": [
       "SVC(C=1.0, cache_size=200, class_weight=None, coef0=0.0,\n",
       "    decision_function_shape='ovr', degree=3, gamma='auto_deprecated',\n",
       "    kernel='rbf', max_iter=-1, probability=False, random_state=None,\n",
       "    shrinking=True, tol=0.001, verbose=False)"
      ]
     },
     "execution_count": 227,
     "metadata": {},
     "output_type": "execute_result"
    }
   ],
   "source": [
    "# Fit the data using a SVC\n",
    "mpg_svc= SVC(kernel=\"rbf\")\n",
    "mpg_svc.fit(X, y)"
   ]
  },
  {
   "cell_type": "code",
   "execution_count": 231,
   "metadata": {},
   "outputs": [
    {
     "name": "stdout",
     "output_type": "stream",
     "text": [
      "Best estimator =  SVC(C=1.8094629152568114, cache_size=200, class_weight=None, coef0=0.0,\n",
      "    decision_function_shape='ovr', degree=3, gamma='scale', kernel='rbf',\n",
      "    max_iter=-1, probability=False, random_state=None, shrinking=False,\n",
      "    tol=0.001, verbose=False)\n",
      "Best tuning parameters =  {'C': 1.8094629152568114, 'gamma': 'scale', 'shrinking': False}\n",
      "MSE of optimal results =  0.11989795918367346\n"
     ]
    }
   ],
   "source": [
    "# specify parameters and distributions to sample from\n",
    "param_dist4 = {'C': sp_uniform(loc=0.2, scale=4.0),\n",
    "               'gamma': [\"scale\", \"auto_deprecated\"],\n",
    "               'shrinking': [True,False]}\n",
    "\n",
    "\n",
    "# Run randomized hyperparameter search\n",
    "random_search4 = RandomizedSearchCV(mpg_svc, param_distributions=param_dist4,\n",
    "                                    n_iter=100, n_jobs=-1, cv=4, random_state=25,\n",
    "                                    scoring='neg_mean_squared_error')\n",
    "random_search4.fit(X, y)\n",
    "\n",
    "# Print the result\n",
    "print('Best estimator = ', random_search4.best_estimator_)\n",
    "print('Best tuning parameters = ', random_search4.best_params_)\n",
    "print('MSE of optimal results = ', -random_search4.best_score_)"
   ]
  },
  {
   "cell_type": "markdown",
   "metadata": {},
   "source": [
    "## Problem 2.d"
   ]
  },
  {
   "cell_type": "markdown",
   "metadata": {},
   "source": [
    "The Random Forest model with parameters `{'max_depth': 8, 'max_features': 3, 'min_samples_leaf': 15, 'min_samples_split': 2, 'n_estimators': 10}` has the lowest MSE, which means that it has the best fit of the data. Therefore, in terms of fitting, the Random Forest model has the best performance. But, in light of the potential of overfitting, it is hard to evaluate the prediction power of the models, but we may want to use a model that has the lowest MSE on the labelled data for prediction. "
   ]
  },
  {
   "cell_type": "code",
   "execution_count": null,
   "metadata": {},
   "outputs": [],
   "source": []
  }
 ],
 "metadata": {
  "kernelspec": {
   "display_name": "Python 3",
   "language": "python",
   "name": "python3"
  },
  "language_info": {
   "codemirror_mode": {
    "name": "ipython",
    "version": 3
   },
   "file_extension": ".py",
   "mimetype": "text/x-python",
   "name": "python",
   "nbconvert_exporter": "python",
   "pygments_lexer": "ipython3",
   "version": "3.7.4"
  }
 },
 "nbformat": 4,
 "nbformat_minor": 2
}
