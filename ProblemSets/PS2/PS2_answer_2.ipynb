{
 "cells": [
  {
   "cell_type": "code",
   "execution_count": 39,
   "metadata": {},
   "outputs": [],
   "source": [
    "import sympy as sy\n",
    "import numpy as np \n",
    "import pandas as pd\n",
    "import scipy as sp\n",
    "import math\n",
    "from scipy.stats import norm, lognorm\n",
    "from scipy import optimize\n",
    "from matplotlib import pyplot as plt"
   ]
  },
  {
   "cell_type": "markdown",
   "metadata": {},
   "source": [
    "## Problem 2.1"
   ]
  },
  {
   "cell_type": "code",
   "execution_count": 40,
   "metadata": {},
   "outputs": [],
   "source": [
    "# Define a function that implements one of the three methods\n",
    "def integral(f, a, b, N, method): \n",
    "\n",
    "    def midpoint(f, a, b, N): \n",
    "        xi = lambda i: a + ((2 * i + 1) * (b - a)) / (2 * N)    # the x-coordinate of the i-th midpoint\n",
    "        return ((b - a) / N) * sum([f(xi(i)) for i in range(0, N)])\n",
    "    \n",
    "    def trapezoid(f, a, b, N): \n",
    "        xi = lambda i: a + i * (b - a) / (N)\n",
    "        return ((b - a) / (2 * N)) * \\\n",
    "                (f(a) + 2* sum([f(xi(i)) for i in range(1, N)]) + f(b))\n",
    "    \n",
    "    def simpsons(f, a, b, N): \n",
    "        xi = lambda i: a + i * (b - a) / (2 * N)\n",
    "        return ((b - a) / (6 * N)) * \\\n",
    "                (f(a) + 4 * sum([f(xi(i)) for i in range(1, 2 * N, 2)]) + \\\n",
    "                 2 * sum([f(xi(i)) for i in range(2, 2 * N - 1, 2)]) + f(b))\n",
    "    \n",
    "    methods = {'midpoint': midpoint, 'trapezoid': trapezoid, 'Simpsons': simpsons}\n",
    "    return methods[method](f, a, b, N)"
   ]
  },
  {
   "cell_type": "code",
   "execution_count": 41,
   "metadata": {},
   "outputs": [],
   "source": [
    "a, b, N = -10, 10, 10000\n",
    "# Use Sympy to calculate the analytical solution \n",
    "x = sy.symbols('x')\n",
    "f = 0.1 * x ** 4 + (-1.5) * x ** 3 + 0.53 * x ** 2 + 2 * x + 1\n",
    "f_lam = sy.lambdify(x, f)\n",
    "exact_value = sy.integrate(f, (x, a, b))"
   ]
  },
  {
   "cell_type": "code",
   "execution_count": 42,
   "metadata": {},
   "outputs": [
    {
     "data": {
      "text/html": [
       "<div>\n",
       "<style scoped>\n",
       "    .dataframe tbody tr th:only-of-type {\n",
       "        vertical-align: middle;\n",
       "    }\n",
       "\n",
       "    .dataframe tbody tr th {\n",
       "        vertical-align: top;\n",
       "    }\n",
       "\n",
       "    .dataframe thead th {\n",
       "        text-align: right;\n",
       "    }\n",
       "</style>\n",
       "<table border=\"1\" class=\"dataframe\">\n",
       "  <thead>\n",
       "    <tr style=\"text-align: right;\">\n",
       "      <th></th>\n",
       "      <th>Result</th>\n",
       "      <th>Error</th>\n",
       "    </tr>\n",
       "    <tr>\n",
       "      <th>Method</th>\n",
       "      <th></th>\n",
       "      <th></th>\n",
       "    </tr>\n",
       "  </thead>\n",
       "  <tbody>\n",
       "    <tr>\n",
       "      <td>SymPy_exact</td>\n",
       "      <td>4373.33333333333</td>\n",
       "      <td>0</td>\n",
       "    </tr>\n",
       "    <tr>\n",
       "      <td>midpoint</td>\n",
       "      <td>4373.33319646663</td>\n",
       "      <td>0.000136866699904203</td>\n",
       "    </tr>\n",
       "    <tr>\n",
       "      <td>trapezoid</td>\n",
       "      <td>4373.33360706668</td>\n",
       "      <td>0.000273733351605188</td>\n",
       "    </tr>\n",
       "    <tr>\n",
       "      <td>Simpsons</td>\n",
       "      <td>4373.33333333332</td>\n",
       "      <td>1.63709046319127e-11</td>\n",
       "    </tr>\n",
       "  </tbody>\n",
       "</table>\n",
       "</div>"
      ],
      "text/plain": [
       "                       Result                 Error\n",
       "Method                                             \n",
       "SymPy_exact  4373.33333333333                     0\n",
       "midpoint     4373.33319646663  0.000136866699904203\n",
       "trapezoid    4373.33360706668  0.000273733351605188\n",
       "Simpsons     4373.33333333332  1.63709046319127e-11"
      ]
     },
     "execution_count": 42,
     "metadata": {},
     "output_type": "execute_result"
    },
    {
     "data": {
      "image/png": "[encoded data removed]",
      "text/plain": [
       "<Figure size 432x288 with 1 Axes>"
      ]
     },
     "metadata": {
      "needs_background": "light"
     },
     "output_type": "display_data"
    }
   ],
   "source": [
    "method_list = ['SymPy_exact', 'midpoint', 'trapezoid', 'Simpsons']\n",
    "error_list = [0, ]\n",
    "result_list = [exact_value, ]\n",
    "for method in method_list[1:]: \n",
    "    result = integral(f_lam, a, b, N, method)\n",
    "    result_list.append(result)\n",
    "    error_list.append(abs(result - exact_value))\n",
    "\n",
    "data = pd.DataFrame(data={'Method': method_list, \n",
    "                          'Result': result_list, \n",
    "                          'Error': error_list})\n",
    "data.set_index('Method', inplace=True)\n",
    "\n",
    "plt.semilogy()\n",
    "plt.bar(data.index, data['Error'])\n",
    "pd.set_option(\"display.precision\", 15)\n",
    "data"
   ]
  },
  {
   "cell_type": "markdown",
   "metadata": {},
   "source": [
    "## Problem 2.2"
   ]
  },
  {
   "cell_type": "code",
   "execution_count": 43,
   "metadata": {},
   "outputs": [],
   "source": [
    "def normal_approximate(mu, sigma, N, k): \n",
    "    z_vector = np.linspace(mu - k * sigma, mu + k * sigma, N)\n",
    "    w_vector = []\n",
    "    F = norm.cdf\n",
    "    for i in range(N): \n",
    "        if i == 0: \n",
    "            w_vector.append(F((z_vector[i] + z_vector[i+1]) / 2, mu, sigma))\n",
    "        elif i == N - 1: \n",
    "            w_vector.append(1 - F((z_vector[i-1] + z_vector[i]) / 2, mu, sigma))\n",
    "        else: \n",
    "            z_min = (z_vector[i-1] + z_vector[i]) / 2\n",
    "            z_max = (z_vector[i] + z_vector[i+1]) / 2\n",
    "            w_vector.append(F(z_max, mu, sigma) - F(z_min, mu, sigma))\n",
    "    return z_vector, np.array(w_vector)"
   ]
  },
  {
   "cell_type": "code",
   "execution_count": 44,
   "metadata": {},
   "outputs": [
    {
     "data": {
      "text/html": [
       "<div>\n",
       "<style scoped>\n",
       "    .dataframe tbody tr th:only-of-type {\n",
       "        vertical-align: middle;\n",
       "    }\n",
       "\n",
       "    .dataframe tbody tr th {\n",
       "        vertical-align: top;\n",
       "    }\n",
       "\n",
       "    .dataframe thead th {\n",
       "        text-align: right;\n",
       "    }\n",
       "</style>\n",
       "<table border=\"1\" class=\"dataframe\">\n",
       "  <thead>\n",
       "    <tr style=\"text-align: right;\">\n",
       "      <th></th>\n",
       "      <th>z</th>\n",
       "      <th>w</th>\n",
       "    </tr>\n",
       "  </thead>\n",
       "  <tbody>\n",
       "    <tr>\n",
       "      <td>0</td>\n",
       "      <td>-5.0</td>\n",
       "      <td>0.000003397673125</td>\n",
       "    </tr>\n",
       "    <tr>\n",
       "      <td>1</td>\n",
       "      <td>-4.0</td>\n",
       "      <td>0.000229231405911</td>\n",
       "    </tr>\n",
       "    <tr>\n",
       "      <td>2</td>\n",
       "      <td>-3.0</td>\n",
       "      <td>0.005977036246741</td>\n",
       "    </tr>\n",
       "    <tr>\n",
       "      <td>3</td>\n",
       "      <td>-2.0</td>\n",
       "      <td>0.060597535943082</td>\n",
       "    </tr>\n",
       "    <tr>\n",
       "      <td>4</td>\n",
       "      <td>-1.0</td>\n",
       "      <td>0.241730337457129</td>\n",
       "    </tr>\n",
       "    <tr>\n",
       "      <td>5</td>\n",
       "      <td>0.0</td>\n",
       "      <td>0.382924922548026</td>\n",
       "    </tr>\n",
       "    <tr>\n",
       "      <td>6</td>\n",
       "      <td>1.0</td>\n",
       "      <td>0.241730337457129</td>\n",
       "    </tr>\n",
       "    <tr>\n",
       "      <td>7</td>\n",
       "      <td>2.0</td>\n",
       "      <td>0.060597535943082</td>\n",
       "    </tr>\n",
       "    <tr>\n",
       "      <td>8</td>\n",
       "      <td>3.0</td>\n",
       "      <td>0.005977036246741</td>\n",
       "    </tr>\n",
       "    <tr>\n",
       "      <td>9</td>\n",
       "      <td>4.0</td>\n",
       "      <td>0.000229231405911</td>\n",
       "    </tr>\n",
       "    <tr>\n",
       "      <td>10</td>\n",
       "      <td>5.0</td>\n",
       "      <td>0.000003397673125</td>\n",
       "    </tr>\n",
       "  </tbody>\n",
       "</table>\n",
       "</div>"
      ],
      "text/plain": [
       "      z                  w\n",
       "0  -5.0  0.000003397673125\n",
       "1  -4.0  0.000229231405911\n",
       "2  -3.0  0.005977036246741\n",
       "3  -2.0  0.060597535943082\n",
       "4  -1.0  0.241730337457129\n",
       "5   0.0  0.382924922548026\n",
       "6   1.0  0.241730337457129\n",
       "7   2.0  0.060597535943082\n",
       "8   3.0  0.005977036246741\n",
       "9   4.0  0.000229231405911\n",
       "10  5.0  0.000003397673125"
      ]
     },
     "execution_count": 44,
     "metadata": {},
     "output_type": "execute_result"
    }
   ],
   "source": [
    "mu, sigma, N, k = 0, 1, 11, 5\n",
    "z_vector, w_vector = normal_approximate(mu, sigma, N, k)\n",
    "pd.DataFrame(data={'z': z_vector, 'w': w_vector})\n",
    "\n",
    "# The the weights and nodes for N = 11, k = 5 are: "
   ]
  },
  {
   "cell_type": "code",
   "execution_count": 45,
   "metadata": {},
   "outputs": [
    {
     "data": {
      "text/plain": [
       "<matplotlib.legend.Legend at 0x1a272a3050>"
      ]
     },
     "execution_count": 45,
     "metadata": {},
     "output_type": "execute_result"
    },
    {
     "data": {
      "image/png": "[encoded data removed]",
      "text/plain": [
       "<Figure size 432x288 with 1 Axes>"
      ]
     },
     "metadata": {
      "needs_background": "light"
     },
     "output_type": "display_data"
    }
   ],
   "source": [
    "# Plot the approximation\n",
    "mu, sigma, N = 0, 1, 11\n",
    "for k in [3, 5, 7]: \n",
    "    z_vector, w_vector = normal_approximate(mu, sigma, N, k)\n",
    "    plt.plot(z_vector, w_vector, label='approximation: k = ' + str(k))\n",
    "\n",
    "# Plot the normal distribution\n",
    "x_coor = np.linspace(mu - k * sigma, mu + k * sigma, 10000)\n",
    "plt.plot(x_coor, norm.pdf(x_coor, mu, sigma), label='N(0, 1)')\n",
    "\n",
    "plt.legend()"
   ]
  },
  {
   "cell_type": "code",
   "execution_count": 46,
   "metadata": {},
   "outputs": [],
   "source": [
    "## Problem 2.3"
   ]
  },
  {
   "cell_type": "code",
   "execution_count": 47,
   "metadata": {},
   "outputs": [],
   "source": [
    "def lognormal_approximate(mu, sigma, N, k): \n",
    "    z_vector, w_vector = normal_approximate(mu, sigma, N, k)\n",
    "    return np.exp(z_vector), w_vector"
   ]
  },
  {
   "cell_type": "code",
   "execution_count": 48,
   "metadata": {},
   "outputs": [
    {
     "data": {
      "text/html": [
       "<div>\n",
       "<style scoped>\n",
       "    .dataframe tbody tr th:only-of-type {\n",
       "        vertical-align: middle;\n",
       "    }\n",
       "\n",
       "    .dataframe tbody tr th {\n",
       "        vertical-align: top;\n",
       "    }\n",
       "\n",
       "    .dataframe thead th {\n",
       "        text-align: right;\n",
       "    }\n",
       "</style>\n",
       "<table border=\"1\" class=\"dataframe\">\n",
       "  <thead>\n",
       "    <tr style=\"text-align: right;\">\n",
       "      <th></th>\n",
       "      <th>z</th>\n",
       "      <th>w</th>\n",
       "    </tr>\n",
       "  </thead>\n",
       "  <tbody>\n",
       "    <tr>\n",
       "      <td>0</td>\n",
       "      <td>0.006737946999085</td>\n",
       "      <td>0.000003397673125</td>\n",
       "    </tr>\n",
       "    <tr>\n",
       "      <td>1</td>\n",
       "      <td>0.018315638888734</td>\n",
       "      <td>0.000229231405911</td>\n",
       "    </tr>\n",
       "    <tr>\n",
       "      <td>2</td>\n",
       "      <td>0.049787068367864</td>\n",
       "      <td>0.005977036246741</td>\n",
       "    </tr>\n",
       "    <tr>\n",
       "      <td>3</td>\n",
       "      <td>0.135335283236613</td>\n",
       "      <td>0.060597535943082</td>\n",
       "    </tr>\n",
       "    <tr>\n",
       "      <td>4</td>\n",
       "      <td>0.367879441171442</td>\n",
       "      <td>0.241730337457129</td>\n",
       "    </tr>\n",
       "    <tr>\n",
       "      <td>5</td>\n",
       "      <td>1.000000000000000</td>\n",
       "      <td>0.382924922548026</td>\n",
       "    </tr>\n",
       "    <tr>\n",
       "      <td>6</td>\n",
       "      <td>2.718281828459045</td>\n",
       "      <td>0.241730337457129</td>\n",
       "    </tr>\n",
       "    <tr>\n",
       "      <td>7</td>\n",
       "      <td>7.389056098930650</td>\n",
       "      <td>0.060597535943082</td>\n",
       "    </tr>\n",
       "    <tr>\n",
       "      <td>8</td>\n",
       "      <td>20.085536923187668</td>\n",
       "      <td>0.005977036246741</td>\n",
       "    </tr>\n",
       "    <tr>\n",
       "      <td>9</td>\n",
       "      <td>54.598150033144236</td>\n",
       "      <td>0.000229231405911</td>\n",
       "    </tr>\n",
       "    <tr>\n",
       "      <td>10</td>\n",
       "      <td>148.413159102576600</td>\n",
       "      <td>0.000003397673125</td>\n",
       "    </tr>\n",
       "  </tbody>\n",
       "</table>\n",
       "</div>"
      ],
      "text/plain": [
       "                      z                  w\n",
       "0     0.006737946999085  0.000003397673125\n",
       "1     0.018315638888734  0.000229231405911\n",
       "2     0.049787068367864  0.005977036246741\n",
       "3     0.135335283236613  0.060597535943082\n",
       "4     0.367879441171442  0.241730337457129\n",
       "5     1.000000000000000  0.382924922548026\n",
       "6     2.718281828459045  0.241730337457129\n",
       "7     7.389056098930650  0.060597535943082\n",
       "8    20.085536923187668  0.005977036246741\n",
       "9    54.598150033144236  0.000229231405911\n",
       "10  148.413159102576600  0.000003397673125"
      ]
     },
     "execution_count": 48,
     "metadata": {},
     "output_type": "execute_result"
    }
   ],
   "source": [
    "mu, sigma, N, k = 0, 1, 11, 5\n",
    "z_vector, w_vector = lognormal_approximate(mu, sigma, N, k)\n",
    "pd.DataFrame(data={'z': z_vector, 'w': w_vector})"
   ]
  },
  {
   "cell_type": "code",
   "execution_count": 49,
   "metadata": {},
   "outputs": [
    {
     "data": {
      "text/plain": [
       "<matplotlib.legend.Legend at 0x1a26da73d0>"
      ]
     },
     "execution_count": 49,
     "metadata": {},
     "output_type": "execute_result"
    },
    {
     "data": {
      "image/png": "[encoded data removed]",
      "text/plain": [
       "<Figure size 432x288 with 1 Axes>"
      ]
     },
     "metadata": {
      "needs_background": "light"
     },
     "output_type": "display_data"
    }
   ],
   "source": [
    "# Plot the approximation \n",
    "mu, sigma, N = 0, 1, 11\n",
    "for k in [3, 5]: \n",
    "    z_vector, w_vector = lognormal_approximate(mu, sigma, N, k)\n",
    "    plt.plot(z_vector, w_vector, label='approximation: k = ' + str(k))\n",
    "\n",
    "# Plot the normal distribution\n",
    "x_coor = (np.linspace(mu - k * sigma, mu + k * sigma, 10000))\n",
    "plt.plot(np.exp(x_coor), norm.pdf(x_coor, mu, sigma), label='logN(0, 1)')\n",
    "\n",
    "plt.legend()"
   ]
  },
  {
   "cell_type": "markdown",
   "metadata": {},
   "source": [
    "## Problem 2.4"
   ]
  },
  {
   "cell_type": "code",
   "execution_count": 50,
   "metadata": {},
   "outputs": [
    {
     "data": {
      "text/html": [
       "<div>\n",
       "<style scoped>\n",
       "    .dataframe tbody tr th:only-of-type {\n",
       "        vertical-align: middle;\n",
       "    }\n",
       "\n",
       "    .dataframe tbody tr th {\n",
       "        vertical-align: top;\n",
       "    }\n",
       "\n",
       "    .dataframe thead th {\n",
       "        text-align: right;\n",
       "    }\n",
       "</style>\n",
       "<table border=\"1\" class=\"dataframe\">\n",
       "  <thead>\n",
       "    <tr style=\"text-align: right;\">\n",
       "      <th></th>\n",
       "      <th>Approximated</th>\n",
       "      <th>Exact</th>\n",
       "      <th>Error</th>\n",
       "    </tr>\n",
       "  </thead>\n",
       "  <tbody>\n",
       "    <tr>\n",
       "      <td>Expected Income ($)</td>\n",
       "      <td>50024.596956986446457</td>\n",
       "      <td>50011.087008521753887</td>\n",
       "      <td>13.50994846469257</td>\n",
       "    </tr>\n",
       "  </tbody>\n",
       "</table>\n",
       "</div>"
      ],
      "text/plain": [
       "                              Approximated                  Exact  \\\n",
       "Expected Income ($)  50024.596956986446457  50011.087008521753887   \n",
       "\n",
       "                                 Error  \n",
       "Expected Income ($)  13.50994846469257  "
      ]
     },
     "execution_count": 50,
     "metadata": {},
     "output_type": "execute_result"
    }
   ],
   "source": [
    "mu, sigma, N, k = 10.5, 0.8, 100, 5\n",
    "income_level, income_density = lognormal_approximate(mu, sigma, N, k)\n",
    "\n",
    "# Expected income is approximated by (z_vector *（scalar product) w_vector)\n",
    "expect = sum(income_level * income_density)\n",
    "\n",
    "# Calculate the exact expected value\n",
    "expect_exact = np.exp(mu + (sigma ** 2) / 2)\n",
    "\n",
    "error = abs(expect - expect_exact)\n",
    "data = pd.DataFrame(data={'Approximated': [expect], \n",
    "                          'Exact': [expect_exact], \n",
    "                          'Error': [error]}, index=['Expected Income ($)'])\n",
    "data"
   ]
  },
  {
   "cell_type": "markdown",
   "metadata": {},
   "source": [
    "## Problem 3.1"
   ]
  },
  {
   "cell_type": "code",
   "execution_count": 51,
   "metadata": {},
   "outputs": [],
   "source": [
    "def gaussian(f, a, b, N): \n",
    "    init_guess = [a+i*(b-a)/(N-1) for i in range(N)] + [1/N] * N\n",
    "\n",
    "    def equations(vars): \n",
    "        x = vars[:N]\n",
    "        w = vars[N:]\n",
    "        equation_list = []\n",
    "        for i in range(2 * N): \n",
    "            equation_list.append(sum([w[j] * (x[j] ** i) for j in range(N)]) - (1 / (i + 1)) * (b ** (i+1) - a ** (i+1)))\n",
    "        return equation_list\n",
    "\n",
    "    result = optimize.root(equations, init_guess).x\n",
    "    x_result = result[:N]\n",
    "    w_result = result[N:]\n",
    "    \n",
    "    approximation = 0\n",
    "    for i in range(N): \n",
    "        approximation += w_result[i] * f(x_result[i])\n",
    "    \n",
    "    return approximation"
   ]
  },
  {
   "cell_type": "code",
   "execution_count": 52,
   "metadata": {},
   "outputs": [
    {
     "name": "stdout",
     "output_type": "stream",
     "text": [
      "Gaussian approximation:  4373.333333277765\n",
      "Gaussian error 5.55673977942206e-8\n",
      "Simpson:  4373.33336\n",
      "Simpson error (N=100):  2.66666675088345e-5\n",
      "Gaussian error < Simpson error:  True\n"
     ]
    }
   ],
   "source": [
    "gaussian_result = gaussian(f_lam, -10, 10, 3)\n",
    "gaussian_error = abs(gaussian_result - exact_value)\n",
    "print('Gaussian approximation: ', gaussian_result)\n",
    "print('Gaussian error', gaussian_error)\n",
    "simpson_result = integral(f_lam, -10, 10, 100, 'Simpsons')\n",
    "simpson_error = abs(simpson_result - exact_value)\n",
    "print('Simpson: ', simpson_result)\n",
    "print('Simpson error (N=100): ', simpson_error)\n",
    "print('Gaussian error < Simpson error: ', gaussian_error < simpson_error)"
   ]
  },
  {
   "cell_type": "markdown",
   "metadata": {},
   "source": [
    "## Problem 3.2"
   ]
  },
  {
   "cell_type": "code",
   "execution_count": 53,
   "metadata": {},
   "outputs": [
    {
     "name": "stdout",
     "output_type": "stream",
     "text": [
      "scipy.integrate.quad_result:  4373.333333333334\n",
      "scipy.integrate.quad_error:  1.81898940354586e-12\n",
      "scipy.integrate.quad_error < Gaussian error:  True\n"
     ]
    }
   ],
   "source": [
    "scipyquad_result = sp.integrate.quad(f_lam, -10, 10)[0]\n",
    "scipyquad_error = abs(scipyquad_result - exact_value)\n",
    "print('scipy.integrate.quad_result: ', scipyquad_result)\n",
    "print('scipy.integrate.quad_error: ', scipyquad_error)\n",
    "print('scipy.integrate.quad_error < Gaussian error: ', scipyquad_error < gaussian_error)"
   ]
  },
  {
   "cell_type": "markdown",
   "metadata": {},
   "source": [
    "## Problem 4"
   ]
  },
  {
   "cell_type": "code",
   "execution_count": 65,
   "metadata": {},
   "outputs": [],
   "source": [
    "np.random.seed(25)"
   ]
  },
  {
   "cell_type": "code",
   "execution_count": 96,
   "metadata": {},
   "outputs": [
    {
     "data": {
      "text/plain": [
       "3.16"
      ]
     },
     "execution_count": 96,
     "metadata": {},
     "output_type": "execute_result"
    }
   ],
   "source": [
    "def monte_carlo_integrate(g, omega, N): \n",
    "    # Generate random numbers within the domain and calculate the volume of omega\n",
    "    area = 1 # initial value\n",
    "    rv = dict()\n",
    "    for var, domain in enumerate(omega): \n",
    "        area *= domain[1] - domain[0]\n",
    "        rv[var] = np.random.uniform(domain[0], domain[1], N)\n",
    "    args = list(zip(*[rv[var] for var in range(len(omega))]))\n",
    "\n",
    "    # Calculate the function value at each point\n",
    "    func_value_list = [g(*arg) for arg in args]\n",
    "\n",
    "    return area * sum(func_value_list) / N\n",
    "\n",
    "def pi_func(x, y): \n",
    "    if x ** 2 + y ** 2 <= 1: \n",
    "        return 1\n",
    "    else: \n",
    "        return 0\n",
    "\n",
    "np.random.seed(25)\n",
    "monte_carlo_integrate(pi_func, [[-1, 1], [-1, 1]], 100)"
   ]
  },
  {
   "cell_type": "code",
   "execution_count": 97,
   "metadata": {},
   "outputs": [
    {
     "name": "stdout",
     "output_type": "stream",
     "text": [
      "The smallest number of random draws that mathes pi to the 4th decimal is:  615\n",
      "The approximation is:  3.1414634146341465\n"
     ]
    }
   ],
   "source": [
    "# Find the smallest number of random draws\n",
    "i = 0\n",
    "np.random.seed(25)\n",
    "while True: \n",
    "    i += 1\n",
    "    result = monte_carlo_integrate(pi_func, [[-1, 1], [-1, 1]], i)\n",
    "    if round(result, 4) == 3.1415: \n",
    "        print('The smallest number of random draws that mathes pi to the 4th decimal is: ', i)\n",
    "        print('The approximation is: ', result)\n",
    "        break"
   ]
  },
  {
   "cell_type": "markdown",
   "metadata": {},
   "source": [
    "## Problem 4.2"
   ]
  },
  {
   "cell_type": "code",
   "execution_count": 62,
   "metadata": {},
   "outputs": [],
   "source": [
    "# Define a function that returns the n-th vector of one of the four equidistributed sequences\n",
    "\n",
    "def equi_query(n, d, sequence_name): \n",
    "\n",
    "    def isPrime(n):\n",
    "        '''\n",
    "        credit to: @rickecon\n",
    "        '''\n",
    "        for i in range(2, int(np.sqrt(n) + 1)):\n",
    "            if n % i == 0:\n",
    "                return False\n",
    "\n",
    "        return True\n",
    "    def primes_ascend(N, min_val=2):\n",
    "        '''\n",
    "        credit to: @rickecon\n",
    "        '''\n",
    "        primes_vec = np.zeros(N, dtype=int)\n",
    "        MinIsEven = 1 - min_val % 2\n",
    "        MinIsGrtrThn2 = min_val > 2\n",
    "        curr_prime_ind = 0\n",
    "        if not MinIsGrtrThn2:\n",
    "            i = 2\n",
    "            curr_prime_ind += 1\n",
    "            primes_vec[0] = i\n",
    "        i = min(3, min_val + (MinIsEven * 1))\n",
    "        while curr_prime_ind < N:\n",
    "            if isPrime(i):\n",
    "                curr_prime_ind += 1\n",
    "                primes_vec[curr_prime_ind - 1] = i\n",
    "            i += 2\n",
    "\n",
    "        return primes_vec\n",
    "    \n",
    "    def weyl(n, d): \n",
    "        return [math.modf(n * (primes_ascend(d)[s - 1] ** (1/2)))[0] for s in range(1, d + 1)]\n",
    "\n",
    "    def haber(n, d): \n",
    "        return [math.modf((n * (n + 1)) / 2 * (primes_ascend(d)[s - 1] ** (1/2)))[0] for s in range(1, d + 1)]\n",
    "\n",
    "    def niederreiter(n, d): \n",
    "        return [math.modf(n * (2 ** (s / (n+1))))[0] for s in range(1, d + 1)]\n",
    "\n",
    "    def baker(n, d): \n",
    "        return [math.modf(n * np.exp(1 / s))[0] for s in range(1, d + 1)]\n",
    "\n",
    "    sequence_dict = {'Weyl': weyl, 'Haber': haber, 'Niederreiter': niederreiter, 'Baker': baker}\n",
    "\n",
    "    return sequence_dict[sequence_name](n, d)"
   ]
  },
  {
   "cell_type": "code",
   "execution_count": 63,
   "metadata": {},
   "outputs": [
    {
     "name": "stdout",
     "output_type": "stream",
     "text": [
      "The 5th element of a 3-dimentional Weyl sequence is: \n",
      " [0.0710678118654755, 0.6602540378443855, 0.18033988749894903]\n",
      "The 5th element of a 3-dimentional Haber sequence is: \n",
      " [0.21320343559642652, 0.9807621135331566, 0.5410196624968506]\n",
      "The 5th element of a 3-dimentional Niederreiter sequence is: \n",
      " [0.6123102415468651, 0.2996052494743662, 0.0710678118654755]\n",
      "The 5th element of a 3-dimentional Baker sequence is: \n",
      " [0.591409142295225, 0.24360635350064186, 0.9780621254304478]\n"
     ]
    }
   ],
   "source": [
    "# Test for the 5 the element of a 3-dimentional sequence\n",
    "i, d = 5, 3\n",
    "for sequence in ['Weyl', 'Haber', 'Niederreiter', 'Baker']: \n",
    "    print(f'The {i}th element of a {d}-dimentional {sequence} sequence is: \\n', equi_query(5, 3, sequence))"
   ]
  },
  {
   "cell_type": "markdown",
   "metadata": {},
   "source": [
    "## Problem 4.3"
   ]
  },
  {
   "cell_type": "code",
   "execution_count": 88,
   "metadata": {},
   "outputs": [],
   "source": [
    "def quasi_monte_carlo_integrate(g, omega, N, sequence_name): \n",
    "\n",
    "    # Generate random numbers within the domain and calculate the volume of omega\n",
    "    area = 1 # initial value\n",
    "    rv = []\n",
    "    for var, domain in enumerate(omega): \n",
    "        area *= domain[1] - domain[0]\n",
    "    rv = [equi_query(i, len(omega), sequence_name) for i in range(1, N+1)]\n",
    "    \n",
    "    # Calculate the function value at each point\n",
    "    func_value_list = [g(*arg) for arg in rv]\n",
    "\n",
    "    return area * sum(func_value_list) / N\n",
    "\n",
    "def pi_func(x, y): \n",
    "    if x ** 2 + y ** 2 < 1: \n",
    "        return 1\n",
    "    else: \n",
    "        return 0"
   ]
  },
  {
   "cell_type": "code",
   "execution_count": 89,
   "metadata": {},
   "outputs": [
    {
     "name": "stdout",
     "output_type": "stream",
     "text": [
      "3.112\n",
      "3.14\n",
      "4.0\n",
      "3.132\n"
     ]
    }
   ],
   "source": [
    "for sequence in ['Weyl', 'Haber', 'Niederreiter', 'Baker']: \n",
    "    print(quasi_monte_carlo_integrate(pi_func, [[-1, 1], [-1, 1]], 1000, sequence))"
   ]
  },
  {
   "cell_type": "code",
   "execution_count": 98,
   "metadata": {
    "scrolled": true
   },
   "outputs": [
    {
     "name": "stdout",
     "output_type": "stream",
     "text": [
      "The smallest number of random draws for Weyl:  1668\n",
      "The approximation of Weyl:  3.1414868105515588\n",
      "The smallest number of random draws for Haber:  615\n",
      "The approximation of Haber:  3.1414634146341465\n",
      "The smallest number of random draws for Baker:  410\n",
      "The approximation of Baker:  3.1414634146341465\n",
      "The result of Niederreiter does not converge within 5000 draws. \n",
      "Current result of Niederreiter is:  4.0\n"
     ]
    }
   ],
   "source": [
    "# Find the smallest number of random draws\n",
    "for sequence in ['Weyl', 'Haber', 'Baker', 'Niederreiter']: \n",
    "    np.random.seed(25) # reset the seed of random number generator for each iteration\n",
    "    i = 0\n",
    "    while True: \n",
    "        i += 1\n",
    "        result = quasi_monte_carlo_integrate(pi_func, [[-1, 1], [-1, 1]], i, sequence)\n",
    "        if round(result, 4) == 3.1415: \n",
    "            print(f'The smallest number of random draws for {sequence}: ', i)\n",
    "            print(f'The approximation of {sequence}: ', result)\n",
    "            break\n",
    "        elif i >= 5000: \n",
    "            print(f'The result of {sequence} does not converge within 5000 draws. ')\n",
    "            print(f'Current result of {sequence} is: ', result)\n",
    "            break"
   ]
  },
  {
   "cell_type": "code",
   "execution_count": 1,
   "metadata": {},
   "outputs": [],
   "source": [
    "# The result depends on the seed of the random number generator. Here I have reset the seed to 25 for each simulation. "
   ]
  }
 ],
 "metadata": {
  "file_extension": ".py",
  "kernelspec": {
   "display_name": "Python 3.7.4 64-bit ('base': conda)",
   "language": "python",
   "name": "python37464bitbaseconda7df9fc92201b4db8b072910788b65965"
  },
  "language_info": {
   "codemirror_mode": {
    "name": "ipython",
    "version": 3
   },
   "file_extension": ".py",
   "mimetype": "text/x-python",
   "name": "python",
   "nbconvert_exporter": "python",
   "pygments_lexer": "ipython3",
   "version": "3.7.4"
  },
  "mimetype": "text/x-python",
  "name": "python",
  "npconvert_exporter": "python",
  "pygments_lexer": "ipython3",
  "version": 3
 },
 "nbformat": 4,
 "nbformat_minor": 2
}
