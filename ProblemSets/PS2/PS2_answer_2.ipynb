{
 "cells": [
  {
   "cell_type": "code",
   "execution_count": 1,
   "metadata": {},
   "outputs": [],
   "source": [
    "import sympy as sy\n",
    "import numpy as np \n",
    "import pandas as pd\n",
    "import scipy as sp\n",
    "import math\n",
    "from scipy.stats import norm, lognorm\n",
    "from scipy import optimize\n",
    "from matplotlib import pyplot as plt"
   ]
  },
  {
   "cell_type": "markdown",
   "metadata": {},
   "source": [
    "## Problem 2.1"
   ]
  },
  {
   "cell_type": "code",
   "execution_count": 21,
   "metadata": {},
   "outputs": [],
   "source": [
    "# Define a function that implements one of the three methods\n",
    "def integral(f, a, b, N, method): \n",
    "\n",
    "    def midpoint(f, a, b, N): \n",
    "        xi = lambda i: a + ((2 * i + 1) * (b - a)) / (2 * N)    # the x-coordinate of the i-th midpoint\n",
    "        return ((b - a) / N) * sum([f(xi(i)) for i in range(0, N)])\n",
    "    \n",
    "    def trapezoid(f, a, b, N): \n",
    "        xi = lambda i: a + i * (b - a) / (N)\n",
    "        return ((b - a) / (2 * N)) * \\\n",
    "                (f(a) + 2* sum([f(xi(i)) for i in range(1, N)]) + f(b))\n",
    "    \n",
    "    def simpsons(f, a, b, N): \n",
    "        xi = lambda i: a + i * (b - a) / (2 * N)\n",
    "        return ((b - a) / (6 * N)) * \\\n",
    "                (f(a) + 4 * sum([f(xi(i)) for i in range(1, 2 * N, 2)]) + \\\n",
    "                 2 * sum([f(xi(i)) for i in range(2, 2 * N - 1, 2)]) + f(b))\n",
    "    \n",
    "    methods = {'midpoint': midpoint, 'trapezoid': trapezoid, 'Simpsons': simpsons}\n",
    "    return methods[method](f, a, b, N)"
   ]
  },
  {
   "cell_type": "markdown",
   "metadata": {},
   "source": [
    "### Problem 2.1.(a)"
   ]
  },
  {
   "cell_type": "code",
   "execution_count": 22,
   "metadata": {},
   "outputs": [],
   "source": [
    "a, b, N_vec = -10, 10, np.arange(20, 201, 1)\n",
    "# Use Sympy to calculate the analytical solution \n",
    "x = sy.symbols('x')\n",
    "f = 0.1 * x ** 4 + (-1.5) * x ** 3 + 0.53 * x ** 2 + 2 * x + 1\n",
    "f_lam = sy.lambdify(x, f)\n",
    "exact_value = sy.integrate(f, (x, a, b))"
   ]
  },
  {
   "cell_type": "code",
   "execution_count": 73,
   "metadata": {},
   "outputs": [
    {
     "name": "stdout",
     "output_type": "stream",
     "text": [
      "Show the result for N=20 in the table: \n"
     ]
    },
    {
     "data": {
      "text/html": [
       "<div>\n",
       "<style scoped>\n",
       "    .dataframe tbody tr th:only-of-type {\n",
       "        vertical-align: middle;\n",
       "    }\n",
       "\n",
       "    .dataframe tbody tr th {\n",
       "        vertical-align: top;\n",
       "    }\n",
       "\n",
       "    .dataframe thead th {\n",
       "        text-align: right;\n",
       "    }\n",
       "</style>\n",
       "<table border=\"1\" class=\"dataframe\">\n",
       "  <thead>\n",
       "    <tr style=\"text-align: right;\">\n",
       "      <th></th>\n",
       "      <th>method</th>\n",
       "      <th>result</th>\n",
       "      <th>error</th>\n",
       "    </tr>\n",
       "  </thead>\n",
       "  <tbody>\n",
       "    <tr>\n",
       "      <td>0</td>\n",
       "      <td>midpoint</td>\n",
       "      <td>4339.174999999998363</td>\n",
       "      <td>34.1583333333338</td>\n",
       "    </tr>\n",
       "    <tr>\n",
       "      <td>1</td>\n",
       "      <td>trapezoid</td>\n",
       "      <td>4441.700000000000728</td>\n",
       "      <td>68.3666666666686</td>\n",
       "    </tr>\n",
       "    <tr>\n",
       "      <td>2</td>\n",
       "      <td>Simpsons</td>\n",
       "      <td>4373.349999999998545</td>\n",
       "      <td>0.0166666666664241</td>\n",
       "    </tr>\n",
       "  </tbody>\n",
       "</table>\n",
       "</div>"
      ],
      "text/plain": [
       "      method                result               error\n",
       "0   midpoint  4339.174999999998363    34.1583333333338\n",
       "1  trapezoid  4441.700000000000728    68.3666666666686\n",
       "2   Simpsons  4373.349999999998545  0.0166666666664241"
      ]
     },
     "execution_count": 73,
     "metadata": {},
     "output_type": "execute_result"
    },
    {
     "data": {
      "image/png": "[encoded data removed]",
      "text/plain": [
       "<Figure size 432x288 with 1 Axes>"
      ]
     },
     "metadata": {
      "needs_background": "light"
     },
     "output_type": "display_data"
    }
   ],
   "source": [
    "method_list = ['midpoint', 'trapezoid', 'Simpsons']\n",
    "error_dict = dict()\n",
    "result_dict = dict()\n",
    "for method in method_list: \n",
    "    result = [integral(f_lam, a, b, n, method) for n in N_vec]\n",
    "    result_dict[method] = np.array(result)\n",
    "    error_dict[method] = (abs(np.array(result) - exact_value))\n",
    "\n",
    "for method in method_list:\n",
    "    plt.plot(N_vec, error_dict[method], label=method)\n",
    "plt.legend()\n",
    "\n",
    "print('Show the result for N=20 in the table: ')\n",
    "pd.DataFrame(data={'method': method_list, \n",
    "                   'result': [result_dict[method][0] for method in method_list], \n",
    "                   'error': [error_dict[method][0] for method in method_list]})"
   ]
  },
  {
   "cell_type": "markdown",
   "metadata": {},
   "source": [
    "### Problem 2.1.(b)"
   ]
  },
  {
   "cell_type": "code",
   "execution_count": 29,
   "metadata": {},
   "outputs": [
    {
     "data": {
      "text/plain": [
       "[<matplotlib.lines.Line2D at 0x1a26abd550>]"
      ]
     },
     "execution_count": 29,
     "metadata": {},
     "output_type": "execute_result"
    },
    {
     "data": {
      "image/png": "[encoded data removed]",
      "text/plain": [
       "<Figure size 432x288 with 1 Axes>"
      ]
     },
     "metadata": {
      "needs_background": "light"
     },
     "output_type": "display_data"
    }
   ],
   "source": [
    "x_coor = np.linspace(-10, 10, 10000)\n",
    "plt.plot(x_coor, np.array(f_lam(x_coor)))"
   ]
  },
  {
   "cell_type": "markdown",
   "metadata": {},
   "source": [
    "The function $g(x)$ changes more rapidly with respect to $x$ when $x$ is away from zero. Therefore, any linear approximation would result in substantial erros when the number of nodes are relatively small. As we can see, the Simpson's approximation introduces higher order polynomial functions to approximate $g$, which has the least error. On the contrast, the linear approximations such as the midpoint and the trapezoid approximation have larger errors. Furthermore, since the extent to which the left part of $g$ is 'convex' is more than extent to which the right part is 'concave', the midpoint approximation has less discrepency than does the trapezoid method (this can be seen geographically). "
   ]
  },
  {
   "cell_type": "markdown",
   "metadata": {},
   "source": [
    "## Problem 2.2"
   ]
  },
  {
   "cell_type": "code",
   "execution_count": 30,
   "metadata": {},
   "outputs": [],
   "source": [
    "def normal_approximate(mu, sigma, N, k): \n",
    "    z_vector = np.linspace(mu - k * sigma, mu + k * sigma, N)\n",
    "    w_vector = []\n",
    "    F = norm.cdf\n",
    "    for i in range(N): \n",
    "        if i == 0: \n",
    "            w_vector.append(F((z_vector[i] + z_vector[i+1]) / 2, mu, sigma))\n",
    "        elif i == N - 1: \n",
    "            w_vector.append(1 - F((z_vector[i-1] + z_vector[i]) / 2, mu, sigma))\n",
    "        else: \n",
    "            z_min = (z_vector[i-1] + z_vector[i]) / 2\n",
    "            z_max = (z_vector[i] + z_vector[i+1]) / 2\n",
    "            w_vector.append(F(z_max, mu, sigma) - F(z_min, mu, sigma))\n",
    "    return z_vector, np.array(w_vector)"
   ]
  },
  {
   "cell_type": "code",
   "execution_count": 58,
   "metadata": {},
   "outputs": [
    {
     "name": "stdout",
     "output_type": "stream",
     "text": [
      "The the weights and nodes for (mu, sigma, N, k) = (5, 1.5, 11, 3) are: \n"
     ]
    },
    {
     "data": {
      "text/html": [
       "<div>\n",
       "<style scoped>\n",
       "    .dataframe tbody tr th:only-of-type {\n",
       "        vertical-align: middle;\n",
       "    }\n",
       "\n",
       "    .dataframe tbody tr th {\n",
       "        vertical-align: top;\n",
       "    }\n",
       "\n",
       "    .dataframe thead th {\n",
       "        text-align: right;\n",
       "    }\n",
       "</style>\n",
       "<table border=\"1\" class=\"dataframe\">\n",
       "  <thead>\n",
       "    <tr style=\"text-align: right;\">\n",
       "      <th></th>\n",
       "      <th>w</th>\n",
       "      <th>z</th>\n",
       "    </tr>\n",
       "  </thead>\n",
       "  <tbody>\n",
       "    <tr>\n",
       "      <td>0</td>\n",
       "      <td>0.003466973803041</td>\n",
       "      <td>0.5</td>\n",
       "    </tr>\n",
       "    <tr>\n",
       "      <td>1</td>\n",
       "      <td>0.014397446759776</td>\n",
       "      <td>1.4</td>\n",
       "    </tr>\n",
       "    <tr>\n",
       "      <td>2</td>\n",
       "      <td>0.048942780706042</td>\n",
       "      <td>2.3</td>\n",
       "    </tr>\n",
       "    <tr>\n",
       "      <td>3</td>\n",
       "      <td>0.117252924077901</td>\n",
       "      <td>3.2</td>\n",
       "    </tr>\n",
       "    <tr>\n",
       "      <td>4</td>\n",
       "      <td>0.198028452464288</td>\n",
       "      <td>4.1</td>\n",
       "    </tr>\n",
       "    <tr>\n",
       "      <td>5</td>\n",
       "      <td>0.235822844377905</td>\n",
       "      <td>5.0</td>\n",
       "    </tr>\n",
       "    <tr>\n",
       "      <td>6</td>\n",
       "      <td>0.198028452464288</td>\n",
       "      <td>5.9</td>\n",
       "    </tr>\n",
       "    <tr>\n",
       "      <td>7</td>\n",
       "      <td>0.117252924077901</td>\n",
       "      <td>6.8</td>\n",
       "    </tr>\n",
       "    <tr>\n",
       "      <td>8</td>\n",
       "      <td>0.048942780706042</td>\n",
       "      <td>7.7</td>\n",
       "    </tr>\n",
       "    <tr>\n",
       "      <td>9</td>\n",
       "      <td>0.014397446759776</td>\n",
       "      <td>8.6</td>\n",
       "    </tr>\n",
       "    <tr>\n",
       "      <td>10</td>\n",
       "      <td>0.003466973803041</td>\n",
       "      <td>9.5</td>\n",
       "    </tr>\n",
       "  </tbody>\n",
       "</table>\n",
       "</div>"
      ],
      "text/plain": [
       "                    w    z\n",
       "0   0.003466973803041  0.5\n",
       "1   0.014397446759776  1.4\n",
       "2   0.048942780706042  2.3\n",
       "3   0.117252924077901  3.2\n",
       "4   0.198028452464288  4.1\n",
       "5   0.235822844377905  5.0\n",
       "6   0.198028452464288  5.9\n",
       "7   0.117252924077901  6.8\n",
       "8   0.048942780706042  7.7\n",
       "9   0.014397446759776  8.6\n",
       "10  0.003466973803041  9.5"
      ]
     },
     "execution_count": 58,
     "metadata": {},
     "output_type": "execute_result"
    }
   ],
   "source": [
    "mu, sigma, N, k = 5, 1.5, 11, 3\n",
    "z_vector, w_vector = normal_approximate(mu, sigma, N, k)\n",
    "print('The the weights and nodes for (mu, sigma, N, k) = (5, 1.5, 11, 3) are: ')\n",
    "pd.DataFrame(data={'w': w_vector, 'z': z_vector})"
   ]
  },
  {
   "cell_type": "code",
   "execution_count": 59,
   "metadata": {},
   "outputs": [
    {
     "data": {
      "text/plain": [
       "<matplotlib.legend.Legend at 0x1a26407a10>"
      ]
     },
     "execution_count": 59,
     "metadata": {},
     "output_type": "execute_result"
    },
    {
     "data": {
      "image/png": "[encoded data removed]",
      "text/plain": [
       "<Figure size 432x288 with 1 Axes>"
      ]
     },
     "metadata": {
      "needs_background": "light"
     },
     "output_type": "display_data"
    }
   ],
   "source": [
    "# Plot the approximation to get a sense on the approximations. \n",
    "mu, sigma, N = 5, 1.5, 11\n",
    "for k in [2, 3, 5, 7]: \n",
    "    z_vector, w_vector = normal_approximate(mu, sigma, N, k)\n",
    "    plt.plot(z_vector, w_vector, label='approximation: k = ' + str(k))\n",
    "\n",
    "# Plot the normal distribution\n",
    "x_coor = np.linspace(mu - k * sigma, mu + k * sigma, 10000)\n",
    "plt.plot(x_coor, norm.pdf(x_coor, mu, sigma), label='N(0, 1)')\n",
    "\n",
    "plt.legend()"
   ]
  },
  {
   "cell_type": "code",
   "execution_count": 60,
   "metadata": {},
   "outputs": [],
   "source": [
    "## Problem 2.3"
   ]
  },
  {
   "cell_type": "code",
   "execution_count": 61,
   "metadata": {},
   "outputs": [],
   "source": [
    "def lognormal_approximate(mu, sigma, N, k): \n",
    "    z_vector, w_vector = normal_approximate(mu, sigma, N, k)\n",
    "    return np.exp(z_vector), w_vector"
   ]
  },
  {
   "cell_type": "code",
   "execution_count": 46,
   "metadata": {},
   "outputs": [],
   "source": []
  },
  {
   "cell_type": "code",
   "execution_count": 62,
   "metadata": {},
   "outputs": [
    {
     "data": {
      "text/html": [
       "<div>\n",
       "<style scoped>\n",
       "    .dataframe tbody tr th:only-of-type {\n",
       "        vertical-align: middle;\n",
       "    }\n",
       "\n",
       "    .dataframe tbody tr th {\n",
       "        vertical-align: top;\n",
       "    }\n",
       "\n",
       "    .dataframe thead th {\n",
       "        text-align: right;\n",
       "    }\n",
       "</style>\n",
       "<table border=\"1\" class=\"dataframe\">\n",
       "  <thead>\n",
       "    <tr style=\"text-align: right;\">\n",
       "      <th></th>\n",
       "      <th>w</th>\n",
       "      <th>a</th>\n",
       "    </tr>\n",
       "  </thead>\n",
       "  <tbody>\n",
       "    <tr>\n",
       "      <td>0</td>\n",
       "      <td>0.003466973803041</td>\n",
       "      <td>1.648721270700128</td>\n",
       "    </tr>\n",
       "    <tr>\n",
       "      <td>1</td>\n",
       "      <td>0.014397446759776</td>\n",
       "      <td>4.055199966844675</td>\n",
       "    </tr>\n",
       "    <tr>\n",
       "      <td>2</td>\n",
       "      <td>0.048942780706042</td>\n",
       "      <td>9.974182454814718</td>\n",
       "    </tr>\n",
       "    <tr>\n",
       "      <td>3</td>\n",
       "      <td>0.117252924077901</td>\n",
       "      <td>24.532530197109352</td>\n",
       "    </tr>\n",
       "    <tr>\n",
       "      <td>4</td>\n",
       "      <td>0.198028452464288</td>\n",
       "      <td>60.340287597361950</td>\n",
       "    </tr>\n",
       "    <tr>\n",
       "      <td>5</td>\n",
       "      <td>0.235822844377905</td>\n",
       "      <td>148.413159102576600</td>\n",
       "    </tr>\n",
       "    <tr>\n",
       "      <td>6</td>\n",
       "      <td>0.198028452464288</td>\n",
       "      <td>365.037467865328892</td>\n",
       "    </tr>\n",
       "    <tr>\n",
       "      <td>7</td>\n",
       "      <td>0.117252924077901</td>\n",
       "      <td>897.847291650417560</td>\n",
       "    </tr>\n",
       "    <tr>\n",
       "      <td>8</td>\n",
       "      <td>0.048942780706042</td>\n",
       "      <td>2208.347991887208991</td>\n",
       "    </tr>\n",
       "    <tr>\n",
       "      <td>9</td>\n",
       "      <td>0.014397446759776</td>\n",
       "      <td>5431.659591362978063</td>\n",
       "    </tr>\n",
       "    <tr>\n",
       "      <td>10</td>\n",
       "      <td>0.003466973803041</td>\n",
       "      <td>13359.726829661873126</td>\n",
       "    </tr>\n",
       "  </tbody>\n",
       "</table>\n",
       "</div>"
      ],
      "text/plain": [
       "                    w                      a\n",
       "0   0.003466973803041      1.648721270700128\n",
       "1   0.014397446759776      4.055199966844675\n",
       "2   0.048942780706042      9.974182454814718\n",
       "3   0.117252924077901     24.532530197109352\n",
       "4   0.198028452464288     60.340287597361950\n",
       "5   0.235822844377905    148.413159102576600\n",
       "6   0.198028452464288    365.037467865328892\n",
       "7   0.117252924077901    897.847291650417560\n",
       "8   0.048942780706042   2208.347991887208991\n",
       "9   0.014397446759776   5431.659591362978063\n",
       "10  0.003466973803041  13359.726829661873126"
      ]
     },
     "execution_count": 62,
     "metadata": {},
     "output_type": "execute_result"
    }
   ],
   "source": [
    "mu, sigma, N, k = 5, 1.5, 11, 3\n",
    "a_vector, w_vector = lognormal_approximate(mu, sigma, N, k)\n",
    "pd.DataFrame(data={'w': w_vector, 'a': a_vector})"
   ]
  },
  {
   "cell_type": "code",
   "execution_count": 63,
   "metadata": {},
   "outputs": [
    {
     "data": {
      "text/plain": [
       "<matplotlib.legend.Legend at 0x1a261a2490>"
      ]
     },
     "execution_count": 63,
     "metadata": {},
     "output_type": "execute_result"
    },
    {
     "data": {
      "image/png": "[encoded data removed]",
      "text/plain": [
       "<Figure size 432x288 with 1 Axes>"
      ]
     },
     "metadata": {
      "needs_background": "light"
     },
     "output_type": "display_data"
    }
   ],
   "source": [
    "# Plot the approximation \n",
    "mu, sigma, N = 0, 1, 11\n",
    "for k in [3, 5]: \n",
    "    z_vector, w_vector = lognormal_approximate(mu, sigma, N, k)\n",
    "    plt.plot(z_vector, w_vector, label='approximation: k = ' + str(k))\n",
    "\n",
    "# Plot the normal distribution\n",
    "x_coor = (np.linspace(mu - k * sigma, mu + k * sigma, 10000))\n",
    "plt.plot(np.exp(x_coor), norm.pdf(x_coor, mu, sigma), label='logN(0, 1)')\n",
    "\n",
    "plt.legend()"
   ]
  },
  {
   "cell_type": "markdown",
   "metadata": {},
   "source": [
    "## Problem 2.4"
   ]
  },
  {
   "cell_type": "code",
   "execution_count": 64,
   "metadata": {},
   "outputs": [
    {
     "data": {
      "text/html": [
       "<div>\n",
       "<style scoped>\n",
       "    .dataframe tbody tr th:only-of-type {\n",
       "        vertical-align: middle;\n",
       "    }\n",
       "\n",
       "    .dataframe tbody tr th {\n",
       "        vertical-align: top;\n",
       "    }\n",
       "\n",
       "    .dataframe thead th {\n",
       "        text-align: right;\n",
       "    }\n",
       "</style>\n",
       "<table border=\"1\" class=\"dataframe\">\n",
       "  <thead>\n",
       "    <tr style=\"text-align: right;\">\n",
       "      <th></th>\n",
       "      <th>Approximated</th>\n",
       "      <th>Exact</th>\n",
       "      <th>Error</th>\n",
       "    </tr>\n",
       "  </thead>\n",
       "  <tbody>\n",
       "    <tr>\n",
       "      <td>Expected Income ($)</td>\n",
       "      <td>50352.456192765908781</td>\n",
       "      <td>50011.087008521753887</td>\n",
       "      <td>341.369184244154894</td>\n",
       "    </tr>\n",
       "  </tbody>\n",
       "</table>\n",
       "</div>"
      ],
      "text/plain": [
       "                              Approximated                  Exact  \\\n",
       "Expected Income ($)  50352.456192765908781  50011.087008521753887   \n",
       "\n",
       "                                   Error  \n",
       "Expected Income ($)  341.369184244154894  "
      ]
     },
     "execution_count": 64,
     "metadata": {},
     "output_type": "execute_result"
    }
   ],
   "source": [
    "mu, sigma, N, k = 10.5, 0.8, 11, 3\n",
    "income_level, income_density = lognormal_approximate(mu, sigma, N, k)\n",
    "\n",
    "# Expected income is approximated by (z_vector *（scalar product) w_vector)\n",
    "expect = sum(income_level * income_density)\n",
    "\n",
    "# Calculate the exact expected value\n",
    "expect_exact = np.exp(mu + (sigma ** 2) / 2)\n",
    "\n",
    "error = abs(expect - expect_exact)\n",
    "data = pd.DataFrame(data={'Approximated': [expect], \n",
    "                          'Exact': [expect_exact], \n",
    "                          'Error': [error]}, index=['Expected Income ($)'])\n",
    "data"
   ]
  },
  {
   "cell_type": "markdown",
   "metadata": {},
   "source": [
    "## Problem 3.1"
   ]
  },
  {
   "cell_type": "code",
   "execution_count": 65,
   "metadata": {},
   "outputs": [],
   "source": [
    "def gaussian(f, a, b, N): \n",
    "    init_guess = [a+i*(b-a)/(N-1) for i in range(N)] + [1/N] * N\n",
    "\n",
    "    def equations(vars): \n",
    "        x = vars[:N]\n",
    "        w = vars[N:]\n",
    "        equation_list = []\n",
    "        for i in range(2 * N): \n",
    "            equation_list.append(sum([w[j] * (x[j] ** i) for j in range(N)]) - (1 / (i + 1)) * (b ** (i+1) - a ** (i+1)))\n",
    "        return equation_list\n",
    "\n",
    "    result = optimize.root(equations, init_guess).x\n",
    "    x_result = result[:N]\n",
    "    w_result = result[N:]\n",
    "    \n",
    "    approximation = 0\n",
    "    for i in range(N): \n",
    "        approximation += w_result[i] * f(x_result[i])\n",
    "    \n",
    "    return approximation"
   ]
  },
  {
   "cell_type": "code",
   "execution_count": 70,
   "metadata": {},
   "outputs": [
    {
     "data": {
      "text/html": [
       "<div>\n",
       "<style scoped>\n",
       "    .dataframe tbody tr th:only-of-type {\n",
       "        vertical-align: middle;\n",
       "    }\n",
       "\n",
       "    .dataframe tbody tr th {\n",
       "        vertical-align: top;\n",
       "    }\n",
       "\n",
       "    .dataframe thead th {\n",
       "        text-align: right;\n",
       "    }\n",
       "</style>\n",
       "<table border=\"1\" class=\"dataframe\">\n",
       "  <thead>\n",
       "    <tr style=\"text-align: right;\">\n",
       "      <th></th>\n",
       "      <th>Method</th>\n",
       "      <th>Result</th>\n",
       "      <th>Error</th>\n",
       "    </tr>\n",
       "  </thead>\n",
       "  <tbody>\n",
       "    <tr>\n",
       "      <td>0</td>\n",
       "      <td>Gaussian</td>\n",
       "      <td>4373.333333277764723</td>\n",
       "      <td>5.55673977942206e-8</td>\n",
       "    </tr>\n",
       "    <tr>\n",
       "      <td>1</td>\n",
       "      <td>midpoint</td>\n",
       "      <td>2967.818930041150452</td>\n",
       "      <td>1405.51440329218</td>\n",
       "    </tr>\n",
       "    <tr>\n",
       "      <td>2</td>\n",
       "      <td>trapezoid</td>\n",
       "      <td>7283.127572016460363</td>\n",
       "      <td>2909.79423868313</td>\n",
       "    </tr>\n",
       "    <tr>\n",
       "      <td>3</td>\n",
       "      <td>Simpsons</td>\n",
       "      <td>4406.255144032920725</td>\n",
       "      <td>32.9218106995886</td>\n",
       "    </tr>\n",
       "  </tbody>\n",
       "</table>\n",
       "</div>"
      ],
      "text/plain": [
       "      Method                Result                Error\n",
       "0   Gaussian  4373.333333277764723  5.55673977942206e-8\n",
       "1   midpoint  2967.818930041150452     1405.51440329218\n",
       "2  trapezoid  7283.127572016460363     2909.79423868313\n",
       "3   Simpsons  4406.255144032920725     32.9218106995886"
      ]
     },
     "execution_count": 70,
     "metadata": {},
     "output_type": "execute_result"
    }
   ],
   "source": [
    "result_dict = dict()\n",
    "error_dict = dict()\n",
    "result_dict['Gaussian'] = gaussian(f_lam, -10, 10, 3)\n",
    "error_dict['Gaussian'] = abs(gaussian_result - exact_value)\n",
    "\n",
    "for method in method_list: \n",
    "    result = integral(f_lam, -10, 10, 3, method)\n",
    "    result_dict[method] = result\n",
    "    error_dict[method] = abs(result - exact_value)\n",
    "\n",
    "\n",
    "pd.DataFrame(data={'Method': ['Gaussian'] + method_list, \n",
    "                   'Result': [result_dict[method] for method in ['Gaussian'] + method_list], \n",
    "                   'Error': [error_dict[method] for method in ['Gaussian'] + method_list]})"
   ]
  },
  {
   "cell_type": "markdown",
   "metadata": {},
   "source": [
    "## Problem 3.2"
   ]
  },
  {
   "cell_type": "code",
   "execution_count": 53,
   "metadata": {},
   "outputs": [
    {
     "name": "stdout",
     "output_type": "stream",
     "text": [
      "scipy.integrate.quad_result:  4373.333333333334\n",
      "scipy.integrate.quad_error:  1.81898940354586e-12\n",
      "scipy.integrate.quad_error < Gaussian error:  True\n"
     ]
    }
   ],
   "source": [
    "scipyquad_result = sp.integrate.quad(f_lam, -10, 10)[0]\n",
    "scipyquad_error = abs(scipyquad_result - exact_value)\n",
    "print('scipy.integrate.quad_result: ', scipyquad_result)\n",
    "print('scipy.integrate.quad_error: ', scipyquad_error)\n",
    "print('scipy.integrate.quad_error < Gaussian error: ', scipyquad_error < gaussian_error)"
   ]
  },
  {
   "cell_type": "markdown",
   "metadata": {},
   "source": [
    "## Problem 4"
   ]
  },
  {
   "cell_type": "code",
   "execution_count": 65,
   "metadata": {},
   "outputs": [],
   "source": [
    "np.random.seed(25)"
   ]
  },
  {
   "cell_type": "code",
   "execution_count": 74,
   "metadata": {},
   "outputs": [
    {
     "data": {
      "text/plain": [
       "3.16"
      ]
     },
     "execution_count": 74,
     "metadata": {},
     "output_type": "execute_result"
    }
   ],
   "source": [
    "def monte_carlo_integrate(g, omega, N): \n",
    "    # Generate random numbers within the domain and calculate the volume of omega\n",
    "    area = 1 # initial value\n",
    "    rv = dict()\n",
    "    for var, domain in enumerate(omega): \n",
    "        area *= domain[1] - domain[0]\n",
    "        rv[var] = np.random.uniform(domain[0], domain[1], N)\n",
    "    args = list(zip(*[rv[var] for var in range(len(omega))]))\n",
    "\n",
    "    # Calculate the function value at each point\n",
    "    func_value_list = [g(*arg) for arg in args]\n",
    "\n",
    "    return area * sum(func_value_list) / N\n",
    "\n",
    "def pi_func(x, y): \n",
    "    if x ** 2 + y ** 2 <= 1: \n",
    "        return 1\n",
    "    else: \n",
    "        return 0\n",
    "\n",
    "np.random.seed(25)\n",
    "monte_carlo_integrate(pi_func, [[-1, 1], [-1, 1]], 100)"
   ]
  },
  {
   "cell_type": "code",
   "execution_count": 75,
   "metadata": {},
   "outputs": [
    {
     "name": "stdout",
     "output_type": "stream",
     "text": [
      "The smallest number of random draws that mathes pi to the 4th decimal is:  615\n",
      "The approximation is:  3.1414634146341465\n"
     ]
    }
   ],
   "source": [
    "# Find the smallest number of random draws\n",
    "i = 0\n",
    "np.random.seed(25)\n",
    "while True: \n",
    "    i += 1\n",
    "    result = monte_carlo_integrate(pi_func, [[-1, 1], [-1, 1]], i)\n",
    "    if round(result, 4) == 3.1415: \n",
    "        print('The smallest number of random draws that mathes pi to the 4th decimal is: ', i)\n",
    "        print('The approximation is: ', result)\n",
    "        break"
   ]
  },
  {
   "cell_type": "markdown",
   "metadata": {},
   "source": [
    "## Problem 4.2"
   ]
  },
  {
   "cell_type": "code",
   "execution_count": 77,
   "metadata": {},
   "outputs": [],
   "source": [
    "# Define a function that returns the n-th vector of one of the four equidistributed sequences\n",
    "\n",
    "def equi_query(n, d, sequence_name): \n",
    "\n",
    "    def isPrime(n):\n",
    "        '''\n",
    "        credit to: @rickecon\n",
    "        '''\n",
    "        for i in range(2, int(np.sqrt(n) + 1)):\n",
    "            if n % i == 0:\n",
    "                return False\n",
    "\n",
    "        return True\n",
    "    def primes_ascend(N, min_val=2):\n",
    "        '''\n",
    "        credit to: @rickecon\n",
    "        '''\n",
    "        primes_vec = np.zeros(N, dtype=int)\n",
    "        MinIsEven = 1 - min_val % 2\n",
    "        MinIsGrtrThn2 = min_val > 2\n",
    "        curr_prime_ind = 0\n",
    "        if not MinIsGrtrThn2:\n",
    "            i = 2\n",
    "            curr_prime_ind += 1\n",
    "            primes_vec[0] = i\n",
    "        i = min(3, min_val + (MinIsEven * 1))\n",
    "        while curr_prime_ind < N:\n",
    "            if isPrime(i):\n",
    "                curr_prime_ind += 1\n",
    "                primes_vec[curr_prime_ind - 1] = i\n",
    "            i += 2\n",
    "\n",
    "        return primes_vec\n",
    "    \n",
    "    def weyl(n, d): \n",
    "        return [math.modf(n * (primes_ascend(d)[s - 1] ** (1/2)))[0] for s in range(1, d + 1)]\n",
    "\n",
    "    def haber(n, d): \n",
    "        return [math.modf((n * (n + 1)) / 2 * (primes_ascend(d)[s - 1] ** (1/2)))[0] for s in range(1, d + 1)]\n",
    "\n",
    "    def niederreiter(n, d): \n",
    "        return [math.modf(n * (2 ** (s / (n+1))))[0] for s in range(1, d + 1)]\n",
    "\n",
    "    def baker(n, d): \n",
    "        return [math.modf(n * np.exp(1 / s))[0] for s in range(1, d + 1)]\n",
    "\n",
    "    sequence_dict = {'Weyl': weyl, 'Haber': haber, 'Niederreiter': niederreiter, 'Baker': baker}\n",
    "\n",
    "    return sequence_dict[sequence_name](n, d)"
   ]
  },
  {
   "cell_type": "code",
   "execution_count": 79,
   "metadata": {},
   "outputs": [
    {
     "name": "stdout",
     "output_type": "stream",
     "text": [
      "The 1073th element of a 2-dimentional Weyl sequence is: \n",
      " [0.45115242633119124, 0.49051652140519764]\n",
      "The 1073th element of a 2-dimentional Haber sequence is: \n",
      " [0.2688529398292303, 0.40737199457362294]\n",
      "The 1073th element of a 2-dimentional Niederreiter sequence is: \n",
      " [0.6927253065300647, 0.38589783426255053]\n",
      "The 1073th element of a 2-dimentional Baker sequence is: \n",
      " [0.716401936555485, 0.07792346123756033]\n"
     ]
    }
   ],
   "source": [
    "# Test for the 5 the element of a 3-dimentional sequence\n",
    "i, d = 1073, 2\n",
    "for sequence in ['Weyl', 'Haber', 'Niederreiter', 'Baker']: \n",
    "    print(f'The {i}th element of a {d}-dimentional {sequence} sequence is: \\n', equi_query(i, d, sequence))"
   ]
  },
  {
   "cell_type": "markdown",
   "metadata": {},
   "source": [
    "## Problem 4.3"
   ]
  },
  {
   "cell_type": "code",
   "execution_count": 117,
   "metadata": {},
   "outputs": [],
   "source": [
    "np.random.seed(seed=25)\n",
    "\n",
    "def quasi_monte_carlo_integrate(g, omega, N, sequence_name): \n",
    "\n",
    "    # Generate random numbers within the domain and calculate the volume of omega\n",
    "    area = 1 # initial value\n",
    "    rv = []\n",
    "    rv = [equi_query(i, len(omega), sequence_name) for i in range(0, N)]\n",
    "    for var, domain in enumerate(omega): \n",
    "        area *= domain[1] - domain[0]\n",
    "        for i in range(0, N): \n",
    "            rv[i][var] = rv[i][var] * (domain[1] - domain[0]) + domain[0]\n",
    "    \n",
    "    # Calculate the function value at each point\n",
    "    func_value_list = [g(*arg) for arg in rv]\n",
    "\n",
    "    return area * sum(func_value_list) / N\n",
    "\n",
    "def pi_func(x, y): \n",
    "    if x ** 2 + y ** 2 <= 1: \n",
    "        return 1\n",
    "    else: \n",
    "        return 0"
   ]
  },
  {
   "cell_type": "code",
   "execution_count": 118,
   "metadata": {
    "scrolled": true
   },
   "outputs": [
    {
     "name": "stdout",
     "output_type": "stream",
     "text": [
      "The smallest number of random draws for Weyl:  1230\n",
      "The approximation of Weyl:  3.1414634146341465\n",
      "The smallest number of random draws for Haber:  2064\n",
      "The approximation of Haber:  3.141472868217054\n",
      "The smallest number of random draws for Baker:  205\n",
      "The approximation of Baker:  3.1414634146341465\n",
      "The result of Niederreiter does not converge within 5000 draws. \n",
      "Current result of Niederreiter is:  3.9984\n"
     ]
    }
   ],
   "source": [
    "# Find the smallest number of random draws\n",
    "\n",
    "for sequence in ['Weyl', 'Haber', 'Baker', 'Niederreiter']: \n",
    "    np.random.seed(seed=25)\n",
    "    i = 0\n",
    "    while True: \n",
    "        i += 1\n",
    "        result = quasi_monte_carlo_integrate(pi_func, [[-1, 1], [-1, 1]], i, sequence)\n",
    "        if round(result, 4) == 3.1415: \n",
    "            print(f'The smallest number of random draws for {sequence}: ', i)\n",
    "            print(f'The approximation of {sequence}: ', result)\n",
    "            break\n",
    "        elif i >= 5000: \n",
    "            print(f'The result of {sequence} does not converge within 5000 draws. ')\n",
    "            print(f'Current result of {sequence} is: ', result)\n",
    "            break"
   ]
  },
  {
   "cell_type": "code",
   "execution_count": null,
   "metadata": {},
   "outputs": [],
   "source": []
  }
 ],
 "metadata": {
  "file_extension": ".py",
  "kernelspec": {
   "display_name": "Python 3.7.4 64-bit ('base': conda)",
   "language": "python",
   "name": "python37464bitbaseconda7df9fc92201b4db8b072910788b65965"
  },
  "language_info": {
   "codemirror_mode": {
    "name": "ipython",
    "version": 3
   },
   "file_extension": ".py",
   "mimetype": "text/x-python",
   "name": "python",
   "nbconvert_exporter": "python",
   "pygments_lexer": "ipython3",
   "version": "3.7.4"
  },
  "mimetype": "text/x-python",
  "name": "python",
  "npconvert_exporter": "python",
  "pygments_lexer": "ipython3",
  "version": 3
 },
 "nbformat": 4,
 "nbformat_minor": 2
}
